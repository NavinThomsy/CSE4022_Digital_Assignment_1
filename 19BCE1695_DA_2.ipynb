{
  "cells": [
    {
      "cell_type": "code",
      "execution_count": 1,
      "metadata": {
        "colab": {
          "base_uri": "https://localhost:8080/"
        },
        "id": "vz7uMlge28Oe",
        "outputId": "5b0dacb5-2eb6-47b2-e5b0-40748f296e33"
      },
      "outputs": [
        {
          "output_type": "stream",
          "name": "stderr",
          "text": [
            "[nltk_data] Downloading package punkt to /root/nltk_data...\n",
            "[nltk_data]   Package punkt is already up-to-date!\n",
            "[nltk_data] Downloading package gutenberg to /root/nltk_data...\n",
            "[nltk_data]   Package gutenberg is already up-to-date!\n",
            "[nltk_data] Downloading package genesis to /root/nltk_data...\n",
            "[nltk_data]   Package genesis is already up-to-date!\n",
            "[nltk_data] Downloading package inaugural to /root/nltk_data...\n",
            "[nltk_data]   Package inaugural is already up-to-date!\n",
            "[nltk_data] Downloading package nps_chat to /root/nltk_data...\n",
            "[nltk_data]   Package nps_chat is already up-to-date!\n",
            "[nltk_data] Downloading package webtext to /root/nltk_data...\n",
            "[nltk_data]   Package webtext is already up-to-date!\n",
            "[nltk_data] Downloading package treebank to /root/nltk_data...\n",
            "[nltk_data]   Package treebank is already up-to-date!\n",
            "[nltk_data] Downloading package stopwords to /root/nltk_data...\n",
            "[nltk_data]   Package stopwords is already up-to-date!\n",
            "[nltk_data] Downloading package wordnet to /root/nltk_data...\n",
            "[nltk_data]   Package wordnet is already up-to-date!\n",
            "[nltk_data] Downloading package omw-1.4 to /root/nltk_data...\n",
            "[nltk_data]   Package omw-1.4 is already up-to-date!\n",
            "[nltk_data] Downloading package averaged_perceptron_tagger to\n",
            "[nltk_data]     /root/nltk_data...\n",
            "[nltk_data]   Package averaged_perceptron_tagger is already up-to-\n",
            "[nltk_data]       date!\n"
          ]
        },
        {
          "output_type": "execute_result",
          "data": {
            "text/plain": [
              "True"
            ]
          },
          "metadata": {},
          "execution_count": 1
        }
      ],
      "source": [
        "import nltk, re, pprint\n",
        "from nltk import word_tokenize\n",
        "nltk.download('punkt')\n",
        "nltk.download('gutenberg')\n",
        "nltk.download('genesis')\n",
        "nltk.download('inaugural')\n",
        "nltk.download('nps_chat')\n",
        "nltk.download('webtext')\n",
        "nltk.download('treebank')\n",
        "nltk.download('stopwords')\n",
        "nltk.download('wordnet')\n",
        "nltk.download('omw-1.4')\n",
        "nltk.download('averaged_perceptron_tagger')"
      ]
    },
    {
      "cell_type": "code",
      "execution_count": 2,
      "metadata": {
        "colab": {
          "base_uri": "https://localhost:8080/"
        },
        "id": "mqLWqTQU28Oi",
        "outputId": "b26a29d0-dda0-406d-adb1-7c8bbbe59390"
      },
      "outputs": [
        {
          "output_type": "execute_result",
          "data": {
            "text/plain": [
              "str"
            ]
          },
          "metadata": {},
          "execution_count": 2
        }
      ],
      "source": [
        "from urllib import request\n",
        "url = \"https://www.gutenberg.org/files/5200/5200-0.txt\"\n",
        "response = request.urlopen(url)\n",
        "raw = response.read().decode('utf8')\n",
        "type(raw)"
      ]
    },
    {
      "cell_type": "code",
      "execution_count": 3,
      "metadata": {
        "colab": {
          "base_uri": "https://localhost:8080/"
        },
        "id": "kI4hPbiV28Oj",
        "outputId": "f13648f9-50d0-4152-e6c2-081ed291bf0f"
      },
      "outputs": [
        {
          "output_type": "execute_result",
          "data": {
            "text/plain": [
              "140674"
            ]
          },
          "metadata": {},
          "execution_count": 3
        }
      ],
      "source": [
        "len(raw)"
      ]
    },
    {
      "cell_type": "code",
      "execution_count": 4,
      "metadata": {
        "colab": {
          "base_uri": "https://localhost:8080/",
          "height": 35
        },
        "id": "1GjHwHpj28Oj",
        "outputId": "af79fead-02e0-4313-fb5b-dc5e6c84705c"
      },
      "outputs": [
        {
          "output_type": "execute_result",
          "data": {
            "text/plain": [
              "'\\ufeffThe Project Gutenberg eBook of Metamorphosis, by Franz Kafka\\r\\n\\r\\nThis eBook'"
            ],
            "application/vnd.google.colaboratory.intrinsic+json": {
              "type": "string"
            }
          },
          "metadata": {},
          "execution_count": 4
        }
      ],
      "source": [
        "raw[:75]"
      ]
    },
    {
      "cell_type": "code",
      "execution_count": 5,
      "metadata": {
        "colab": {
          "base_uri": "https://localhost:8080/"
        },
        "id": "JQUCTpkZ28Ok",
        "outputId": "799fbdb1-3e8a-45b6-f720-6a2b840e76d8"
      },
      "outputs": [
        {
          "output_type": "stream",
          "name": "stdout",
          "text": [
            "{'\\ufeffThe': 1, 'Project': 86, 'Gutenberg': 30, 'eBook': 12, 'of': 545, 'Metamorphosis': 3, ',': 1439, 'by': 83, 'Franz': 3, 'Kafka': 3, 'This': 20, 'is': 49, 'for': 181, 'the': 1276, 'use': 19, 'anyone': 13, 'anywhere': 4, 'in': 400, 'United': 16, 'States': 16, 'and': 674, 'most': 16, 'other': 59, 'parts': 2, 'world': 4, 'at': 172, 'no': 64, 'cost': 3, 'with': 240, 'almost': 20, 'restrictions': 2, 'whatsoever': 3, '.': 803, 'You': 20, 'may': 15, 'copy': 13, 'it': 335, 'give': 14, 'away': 33, 'or': 111, 're-use': 2, 'under': 23, 'terms': 21, 'License': 10, 'included': 4, 'this': 120, 'online': 4, 'www.gutenberg.org': 5, 'If': 32, 'you': 106, 'are': 30, 'not': 204, 'located': 7, 'will': 16, 'have': 113, 'to': 829, 'check': 4, 'laws': 10, 'country': 5, 'where': 40, 'before': 38, 'using': 10, '*': 34, 'a': 341, 'COPYRIGHTED': 1, 'Details': 1, 'Below': 1, 'Please': 5, 'follow': 2, 'copyright': 23, 'guidelines': 1, 'file': 3, 'Title': 1, ':': 38, 'Author': 1, 'Translator': 1, 'David': 3, 'Wyllie': 3, 'Release': 1, 'Date': 1, 'May': 2, '[': 2, '#': 1, ']': 2, 'Most': 2, 'recently': 4, 'updated': 1, 'Language': 1, 'English': 1, 'Character': 1, 'set': 21, 'encoding': 1, 'UTF-8': 1, 'Copyright': 2, '(': 22, 'C': 1, ')': 22, 'START': 2, 'OF': 10, 'THE': 6, 'PROJECT': 4, 'GUTENBERG': 3, 'EBOOK': 2, 'METAMORPHOSIS': 2, 'Translated': 1, 'I': 90, 'One': 7, 'morning': 20, 'when': 62, 'Gregor': 298, 'Samsa': 33, 'woke': 2, 'from': 131, 'troubled': 1, 'dreams': 2, 'he': 497, 'found': 16, 'himself': 85, 'transformed': 1, 'his': 523, 'bed': 27, 'into': 78, 'horrible': 3, 'vermin': 1, 'He': 85, 'lay': 19, 'on': 160, 'armour-like': 1, 'back': 82, 'if': 91, 'lifted': 6, 'head': 38, 'little': 49, 'could': 119, 'see': 40, 'brown': 4, 'belly': 3, 'slightly': 8, 'domed': 1, 'divided': 1, 'arches': 1, 'stiff': 3, 'sections': 1, 'The': 62, 'bedding': 1, 'was': 407, 'hardly': 13, 'able': 23, 'cover': 1, 'seemed': 26, 'ready': 4, 'slide': 1, 'off': 19, 'any': 80, 'moment': 10, 'His': 26, 'many': 6, 'legs': 20, 'pitifully': 1, 'thin': 2, 'compared': 1, 'size': 2, 'rest': 7, 'him': 186, 'waved': 1, 'about': 71, 'helplessly': 1, 'as': 243, 'looked': 29, '“': 131, 'What': 15, '’': 331, 's': 194, 'happened': 15, 'me': 17, '?': 55, '”': 131, 'thought': 32, 'It': 42, 'wasn': 5, 't': 61, 'dream': 2, 'room': 129, 'proper': 3, 'human': 5, 'although': 15, 'too': 29, 'small': 6, 'peacefully': 3, 'between': 7, 'its': 21, 'four': 4, 'familiar': 2, 'walls': 7, 'A': 2, 'collection': 7, 'textile': 1, 'samples': 3, 'spread': 7, 'out': 111, 'table—Samsa': 1, 'travelling': 7, 'salesman—and': 1, 'above': 4, 'there': 97, 'hung': 4, 'picture': 6, 'that': 340, 'had': 348, 'cut': 5, 'an': 35, 'illustrated': 1, 'magazine': 1, 'housed': 1, 'nice': 7, 'gilded': 1, 'frame': 2, 'showed': 3, 'lady': 4, 'fitted': 2, 'fur': 4, 'hat': 4, 'boa': 1, 'who': 35, 'sat': 13, 'upright': 9, 'raising': 4, 'heavy': 4, 'muff': 1, 'covered': 9, 'whole': 17, 'her': 182, 'lower': 7, 'arm': 4, 'towards': 12, 'viewer': 1, 'then': 69, 'turned': 19, 'look': 22, 'window': 19, 'dull': 2, 'weather': 2, 'Drops': 1, 'rain': 3, 'be': 134, 'heard': 19, 'hitting': 2, 'pane': 2, 'which': 39, 'made': 40, 'feel': 19, 'quite': 30, 'sad': 3, 'How': 3, 'sleep': 14, 'bit': 4, 'longer': 18, 'forget': 6, 'all': 145, 'nonsense': 1, 'but': 138, 'something': 27, 'unable': 6, 'do': 57, 'because': 22, 'used': 23, 'sleeping': 6, 'right': 21, 'present': 8, 'state': 16, 'couldn': 8, 'get': 44, 'position': 8, 'However': 3, 'hard': 12, 'threw': 5, 'onto': 21, 'always': 18, 'rolled': 3, 'must': 28, 'tried': 12, 'hundred': 1, 'times': 15, 'shut': 9, 'eyes': 19, 'so': 84, 'wouldn': 5, 'floundering': 1, 'only': 60, 'stopped': 9, 'began': 18, 'mild': 1, 'pain': 10, 'never': 20, 'felt': 15, 'Oh': 5, 'God': 7, 'what': 62, 'strenuous': 1, 'career': 1, 've': 9, 'chosen': 2, '!': 44, 'Travelling': 1, 'day': 27, 'Doing': 1, 'business': 16, 'like': 36, 'takes': 2, 'much': 39, 'more': 70, 'effort': 12, 'than': 58, 'doing': 13, 'your': 24, 'own': 10, 'home': 18, 'top': 3, 'curse': 2, 'worries': 2, 'making': 11, 'train': 9, 'connections': 1, 'bad': 2, 'irregular': 1, 'food': 13, 'contact': 3, 'different': 8, 'people': 8, 'time': 59, 'can': 37, 'know': 18, 'become': 19, 'friendly': 5, 'them': 64, 'go': 40, 'Hell': 1, 'slight': 4, 'itch': 2, 'up': 83, ';': 170, 'pushed': 12, 'slowly': 22, 'headboard': 1, 'lift': 3, 'better': 20, 'saw': 12, 'lots': 1, 'white': 7, 'spots': 1, 'didn': 10, 'make': 26, 'place': 9, 'one': 53, 'drew': 4, 'quickly': 11, 'soon': 30, 'touched': 4, 'overcome': 5, 'cold': 3, 'shudder': 1, 'slid': 3, 'former': 1, 'Getting': 1, 'early': 6, 'makes': 3, 'stupid': 2, 'got': 21, 'enough': 20, 'Other': 2, 'salesmen': 3, 'live': 4, 'life': 14, 'luxury': 1, 'For': 9, 'instance': 2, 'whenever': 6, 'guest': 1, 'house': 2, 'during': 5, 'contract': 1, 'these': 15, 'gentlemen': 23, 'still': 44, 'sitting': 3, 'eating': 8, 'their': 68, 'breakfasts': 2, 'ought': 4, 'just': 46, 'try': 6, 'my': 20, 'boss': 11, 'd': 12, 'kicked': 1, 'spot': 3, 'But': 32, 'knows': 1, 'maybe': 4, 'would': 183, 'best': 4, 'thing': 11, 'parents': 26, 'think': 20, 'given': 7, 'notice': 9, 'long': 22, 'ago': 3, 'gone': 5, 'told': 9, 'tell': 6, 'everything': 28, 'let': 28, 'fall': 8, 'desk': 9, 'And': 30, 'funny': 1, 'sort': 6, 'talking': 4, 'down': 35, 'subordinates': 1, 'especially': 13, 'close': 12, 'hearing': 2, 'Well': 5, 'some': 39, 'hope': 5, 'once': 15, 'money': 16, 'together': 9, 'pay': 6, 'debt': 3, 'him—another': 1, 'five': 6, 'six': 3, 'years': 8, 'suppose—that': 1, 'definitely': 2, 'll': 18, 'That': 15, 'big': 3, 'change': 5, 'First': 2, 'though': 30, 'leaves': 1, 'five.': 1, 'over': 32, 'alarm': 6, 'clock': 11, 'ticking': 1, 'chest': 14, 'drawers': 8, 'Heaven': 1, 'half': 7, 'past': 6, 'hands': 18, 'were': 65, 'quietly': 5, 'moving': 11, 'forwards': 4, 'even': 79, 'later': 11, 'quarter': 6, 'seven': 8, 'Had': 2, 'rung': 2, 'been': 100, 'o': 7, 'should': 18, 'certainly': 13, 'Yes': 5, 'possible': 18, 'through': 21, 'furniture-rattling': 1, 'noise': 8, 'True': 1, 'slept': 2, 'probably': 14, 'deeply': 3, 'now': 74, 'next': 18, 'went': 32, 'catch': 4, 'rush': 5, 'mad': 2, 'packed': 1, 'did': 70, 'particularly': 3, 'fresh': 6, 'lively': 3, 'avoid': 3, 'anger': 3, 'office': 7, 'assistant': 2, 'put': 14, 'report': 3, 'being': 26, 'man': 7, 'spineless': 1, 'understanding': 3, 'reported': 2, 'sick': 1, 'extremely': 3, 'strained': 1, 'suspicious': 3, 'service': 2, 'yet': 2, 'ill.': 2, 'come': 29, 'round': 25, 'doctor': 7, 'medical': 1, 'insurance': 1, 'company': 3, 'accuse': 2, 'having': 8, 'lazy': 1, 'son': 2, 'accept': 2, 'recommendation': 1, 'claim': 2, 'believed': 1, 'no-one': 11, 'ever': 11, 'ill': 5, 'workshy': 1, 'entirely': 4, 'wrong': 5, 'case': 1, 'fact': 5, 'apart': 3, 'excessive': 1, 'sleepiness': 1, 'after': 34, 'completely': 9, 'well': 26, 'hungrier': 2, 'usual': 5, 'hurriedly': 7, 'thinking': 1, 'decide': 1, 'struck': 6, 'There': 10, 'cautious': 2, 'knock': 3, 'door': 86, 'near': 7, 'somebody': 4, 'called—it': 1, 'mother—': 1, 'Didn': 1, 'want': 11, 'somewhere': 4, 'gentle': 1, 'voice': 17, 'shocked': 5, 'answering': 1, 'recognised': 1, 'As': 9, 'deep': 3, 'inside': 3, 'painful': 2, 'uncontrollable': 1, 'squeaking': 1, 'mixed': 3, 'words': 12, 'first': 42, 'echo': 1, 'unclear': 1, 'leaving': 5, 'hearer': 1, 'unsure': 1, 'whether': 10, 'properly': 3, 'wanted': 28, 'full': 17, 'answer': 4, 'explain': 2, 'circumstances': 2, 'contented': 1, 'saying': 4, 'mother': 84, 'yes': 3, 'thank-you': 1, 'm': 15, 'getting': 6, 'now.': 1, 'noticed': 9, 'outside': 7, 'wooden': 2, 'satisfied': 1, 'explanation': 5, 'shuffled': 1, 'short': 5, 'conversation': 6, 'members': 2, 'family': 32, 'aware': 6, 'against': 28, 'expectations': 1, 'father': 99, 'came': 31, 'knocking': 3, 'side': 22, 'doors': 10, 'gently': 4, 'fist': 2, 'called': 13, 'while': 40, 'again': 39, 'warning': 1, 'deepness': 1, 'At': 11, 'sister': 101, 'plaintively': 1, 'Aren': 2, 'Do': 4, 'need': 8, 'anything': 14, 'answered': 4, 'both': 8, 'sides': 5, 'remove': 5, 'strangeness': 1, 'enunciating': 1, 'very': 34, 'carefully': 9, 'putting': 2, 'pauses': 1, 'each': 18, 'individual': 7, 'word': 9, 'breakfast': 7, 'whispered': 2, 'open': 35, 'beg': 2, 'you.': 2, 'however': 8, 'opening': 3, 'instead': 6, 'congratulated': 1, 'habit': 6, 'acquired': 2, 'locking': 1, 'night': 10, 'peace': 7, 'without': 47, 'disturbed': 4, 'dressed': 9, 'Only': 3, 'consider': 3, 'bring': 8, 'thoughts': 4, 'sensible': 4, 'conclusions': 2, 'lying': 6, 'remembered': 3, 'often': 16, 'perhaps': 14, 'caused': 6, 'awkwardly': 1, 'pure': 1, 'imagination': 1, 'wondered': 1, 'how': 29, 'imaginings': 1, 'resolve': 1, 'themselves': 10, 'today': 4, 'slightest': 6, 'doubt': 1, 'nothing': 16, 'sign': 8, 'serious': 7, 'occupational': 1, 'hazard': 1, 'simple': 3, 'matter': 2, 'throw': 5, 'covers': 2, 'blow': 2, 'they': 139, 'fell': 9, 'became': 15, 'difficult': 7, 'exceptionally': 1, 'broad': 3, 'arms': 13, 'push': 4, 'those': 4, 'continuously': 1, 'directions': 3, 'moreover': 2, 'control': 3, 'bend': 2, 'stretch': 3, 'itself': 4, 'finally': 10, 'managed': 3, 'leg': 1, 'others': 9, 'free': 11, 'move': 16, 'painfully': 6, 'done': 12, 'said': 51, 'don': 12, 'keep': 13, 'trying': 4, 'part': 11, 'body': 24, 'seen': 13, 'imagine': 2, 'frenzy': 1, 'carelessly': 1, 'shoved': 1, 'force': 8, 'gather': 2, 'chose': 1, 'direction': 4, 'hit': 4, 'bedpost': 1, 'learned': 5, 'burning': 1, 'might': 17, 'sensitive': 2, 'So': 14, 'turning': 7, 'easily': 6, 'despite': 9, 'breadth': 1, 'weight': 3, 'bulk': 1, 'eventually': 1, 'followed': 5, 'last': 11, 'air': 6, 'occurred': 3, 'miracle': 2, 'injured': 3, 'afraid': 3, 'carry': 8, 'pushing': 4, 'forward': 12, 'same': 17, 'way': 63, 'price': 2, 'stay': 11, 'lose': 1, 'consciousness': 1, 'took': 18, 'earlier': 7, 'sighing': 1, 'watching': 3, 'struggled': 1, 'harder': 5, 'bringing': 3, 'order': 7, 'chaos': 1, 'whatever': 2, 'sacrifice': 2, 'remind': 2, 'calm': 7, 'consideration': 5, 'rushing': 1, 'desperate': 1, 'direct': 2, 'clearly': 10, 'unfortunately': 6, 'narrow': 3, 'street': 5, 'enveloped': 1, 'fog': 2, 'view': 4, 'confidence': 4, 'cheer': 1, 'offer': 1, 'Seven': 1, 'already': 24, 'this.': 1, 'breathing': 2, 'lightly': 3, 'expected': 7, 'total': 3, 'stillness': 1, 'things': 27, 'real': 2, 'natural': 1, 'Before': 2, 'strikes': 1, 'work': 74, 'ask': 3, 'clock.': 1, 'task': 2, 'swinging': 1, 'entire': 4, 'length': 1, 'succeeded': 1, 'falling': 3, 'kept': 8, 'raised': 5, 'injuring': 1, 'happen': 5, 'carpet': 6, 'main': 3, 'concern': 4, 'loud': 8, 'bound': 3, 'raise': 3, 'risked': 1, 'When': 7, 'sticking': 1, 'bed—the': 1, 'new': 15, 'method': 2, 'game': 1, 'rock': 1, 'forth—it': 1, 'help': 17, 'Two': 1, 'strong': 4, 'people—he': 1, 'maid': 8, 'mind—would': 1, 'dome': 1, 'peel': 1, 'load': 2, 'patient': 5, 'careful': 4, 'swang': 2, 'floor': 21, 'hopefully': 1, 'find': 6, 'Should': 1, 'really': 23, 'call': 4, 'locked': 5, 'Despite': 2, 'difficulty': 4, 'suppress': 1, 'smile': 4, 'After': 4, 'moved': 11, 'far': 9, 'across': 7, 'balance': 1, 'rocked': 1, 'ten': 2, 'final': 1, 'decision': 4, 'Then': 14, 'ring': 1, 'flat': 20, 'someone': 5, 'froze': 2, 'danced': 1, 'around': 20, 'remained': 11, 'quiet': 10, 'They': 22, 're': 11, 'caught': 3, 'nonsensical': 1, 'course': 16, 'firm': 3, 'steps': 5, 'opened': 16, 'needed': 8, 'hear': 14, 'visitor': 2, 'greeting': 1, 'knew': 8, 'was—the': 1, 'chief': 37, 'clerk': 37, 'Why': 2, 'condemned': 1, 'immediately': 16, 'highly': 4, 'shortcoming': 1, 'Were': 1, 'employees': 5, 'every': 12, 'louts': 1, 'faithful': 1, 'devoted': 1, 'pangs': 1, 'conscience': 1, 'spend': 3, 'least': 11, 'couple': 2, 'hours': 8, 'Was': 3, 'trainees': 1, 'enquiries—assuming': 1, 'enquiries': 1, 'necessary—did': 1, 'show': 5, 'innocent': 2, 'trusted': 1, 'wisdom': 1, 'investigate': 1, 'upset': 3, 'thump': 1, 'softened': 1, 'also': 17, 'elastic': 1, 'sound': 7, 'muffled': 1, 'noticeable': 1, 'held': 14, 'annoyed': 4, 'rubbed': 2, 'Something': 1, 'fallen': 4, 'left': 31, 'concede': 1, 'gruff': 1, 'reply': 2, 'question': 6, 'footsteps': 1, 'polished': 2, 'boots': 2, 'adjoining': 1, 'From': 3, 'here.': 1, 'daring': 1, 'has': 6, 'wants': 3, 'why': 7, 'leave': 11, 'We': 8, 'say': 18, 'anyway': 5, 'speak': 8, 'personally': 1, 'please': 6, 'sure': 6, 'good': 18, 'forgive': 1, 'untidiness': 1, 'room.': 1, 'Good': 1, 'Mr.': 21, 'isn': 4, 'continued': 2, 'believe': 2, 'else': 8, 'missed': 1, 'lad': 1, 'thinks': 1, 'nearly': 9, 'cross': 1, 'goes': 1, 'evenings': 4, 'town': 3, 'week': 2, 'stayed': 5, 'evening': 18, 'sits': 1, 'us': 12, 'kitchen': 11, 'reads': 1, 'paper': 3, 'studies': 1, 'timetables': 1, 'idea': 5, 'relaxation': 2, 'working': 3, 'fretsaw': 2, 'two': 26, 'three': 25, 'amazed': 4, 'hanging': 2, 'opens': 1, 'Anyway': 1, 'glad': 5, 'here': 17, 'we': 35, 'ourselves': 2, 'stubborn': 2, 't.': 1, 'thoughtfully': 1, 'miss': 1, 'explaining': 3, 'Mrs.': 10, 'hand': 22, 'commerce': 1, 'unwell': 2, 'fortunately': 2, 'simply': 7, 'considerations.': 1, 'Can': 2, 'asked': 16, 'impatiently': 1, 'No': 3, 'In': 10, 'silence': 3, 'cry': 2, 'join': 1, 'She': 25, 'begun': 1, 'she': 173, 'crying': 3, 'danger': 2, 'losing': 1, 'job': 8, 'pursue': 1, 'demands': 1, 'worry': 4, 'intention': 3, 'abandoning': 2, 'condition': 8, 'seriously': 5, 'minor': 1, 'discourtesy': 1, 'suitable': 3, 'excuse': 2, 'sacked': 2, 'disturbing': 1, 'happening': 4, 'worried': 2, 'behaviour': 3, 'Mr': 2, 'barricade': 1, 'yourself': 2, 'causing': 3, 'unnecessary': 1, 'fail—and': 1, 'mention': 1, 'way—you': 1, 'fail': 1, 'duties': 1, 'unheard': 2, 'speaking': 5, 'behalf': 2, 'employer': 3, 'request': 2, 'clear': 11, 'immediate': 5, 'am': 2, 'astonished': 4, 'person': 6, 'suddenly': 9, 'seem': 4, 'showing': 2, 'peculiar': 1, 'whims': 1, 'suggest': 1, 'reason': 12, 'failure': 2, 'appear': 3, 'true—it': 1, 'entrusted': 1, 'you—but': 1, 'giving': 3, 'honour': 1, 'incomprehensible': 1, 'stubbornness': 2, 'wish': 4, 'intercede': 1, 'nor': 2, 'secure': 2, 'originally': 1, 'intended': 2, 'private': 1, 'since': 9, 'cause': 4, 'waste': 3, 'learn': 4, 'Your': 1, 'turnover': 1, 'unsatisfactory': 1, 'late': 5, 'grant': 2, 'year': 6, 'recognise': 1, 'allow': 2, 'be.': 1, 'Sir': 1, 'beside': 5, 'forgetting': 2, 'excitement': 1, 'attack': 2, 'dizziness': 1, 'haven': 2, 'Just': 5, 'Be': 1, 'easy': 8, 'alright': 4, 'shocking': 3, 'symptom': 1, 'illness': 1, 'staying': 2, 'suffer': 3, 'basis': 1, 'accusations': 1, 'nobody': 4, 'Maybe': 3, 'read': 3, 'latest': 1, 'contracts': 1, 'sent': 4, 'eight': 2, 'few': 12, 'strength': 7, 'wait': 5, 'sir': 2, 'recommend': 1, 'gushed': 1, 'knowing': 7, 'drawers—this': 1, 'practise': 1, 'bed—where': 1, 'insistent': 2, 'curious': 2, 'sight': 7, 'responsibility': 1, 'calmly': 3, 'hurried': 8, 'station': 1, 'climb': 2, 'smooth': 1, 'gave': 6, 'swing': 2, 'stood': 14, 'attention': 14, 'Now': 13, 'nearby': 1, 'chair': 16, 'tightly': 2, 'edges': 1, 'By': 3, 'calmed': 2, 'listen': 5, 'Did': 2, 'understand': 13, 'surely': 2, 'fools': 1, 'tears': 9, 'Grete': 25, 'cried': 2, 'Mother': 4, 'communicated': 1, 'straight': 18, 'Quick': 1, 'spoke': 2, 'animal': 4, 'calmness': 1, 'contrast': 3, 'screams': 1, 'Anna': 2, 'entrance': 4, 'hall': 7, 'clapping': 1, 'locksmith': 4, 'girls': 1, 'skirts': 4, 'swishing': 1, 'ran': 11, 'wrenching': 1, 'front': 17, 'banging': 1, 'homes': 1, 'awful': 1, 'calmer': 1, 'clearer': 1, 'before—perhaps': 1, 'ears': 1, 'realised': 9, 'response': 1, 'situation': 3, 'confident': 1, 'wise': 1, 'drawn': 2, 'among': 1, 'great': 10, 'surprising': 2, 'achievements—although': 1, 'distinguish': 1, 'Whatever': 2, 'crucial': 1, 'coughed': 1, 'taking': 9, 'care': 1, 'loudly': 5, 'coughs': 1, 'judge': 2, 'Meanwhile': 3, 'Perhaps': 3, 'table': 18, 'whispering': 2, 'pressed': 14, 'listening': 6, 'Once': 3, 'holding': 5, 'adhesive': 2, 'tips': 1, 'rested': 2, 'recover': 1, 'involved': 1, 'key': 10, 'lock': 8, 'mouth': 8, 'teeth—how': 1, 'grasp': 2, '—but': 1, 'lack': 4, 'teeth': 3, 'jaw': 2, 'start': 6, 'ignoring': 2, 'kind': 7, 'damage': 3, 'fluid': 1, 'flowed': 3, 'dripped': 1, 'Listen': 1, 'key.': 1, 'greatly': 1, 'encouraged': 1, 'calling': 1, 'hold': 7, 'excitedly': 2, 'following': 7, 'efforts': 6, 'paying': 4, 'snapped': 1, 'break': 4, 'concentration': 2, 'regained': 1, 'breath': 7, 'handle': 2, 'Because': 2, 'wide': 4, 'turn': 10, 'double': 2, 'entering': 2, 'occupied': 3, 'movement': 4, 'exclaim': 1, 'sounded': 2, 'soughing': 1, 'wind': 1, 'him—he': 1, 'nearest': 1, 'door—his': 1, 'retreating': 1, 'driven': 2, 'steady': 2, 'invisible': 1, 'hair': 3, 'dishevelled': 1, 'unfolded': 2, 'sank': 2, 'disappeared': 5, 'breast': 1, 'hostile': 1, 'clenched': 1, 'fists': 2, 'wanting': 2, 'uncertainly': 1, 'living': 18, 'wept': 1, 'powerful': 1, 'shook': 2, 'leant': 7, 'bolted': 2, 'along': 5, 'peered': 1, 'lighter': 1, 'endless': 1, 'grey-black': 1, 'building': 1, 'street—which': 1, 'hospital—could': 1, 'austere': 1, 'regular': 1, 'line': 3, 'windows': 2, 'piercing': 2, 'façade': 1, 'throwing': 1, 'large': 3, 'droplets': 1, 'ground': 7, 'washing': 2, 'important': 4, 'meal': 6, 'several': 9, 'reading': 5, 'number': 4, 'newspapers': 2, 'On': 5, 'wall': 4, 'exactly': 4, 'opposite': 2, 'photograph': 1, 'lieutenant': 1, 'army': 1, 'sword': 1, 'carefree': 1, 'face': 14, 'forth': 11, 'respect': 4, 'uniform': 9, 'bearing': 1, 'landing': 6, 'stairs': 2, 'below': 5, 'pack': 1, 'Will': 2, 'commercial': 2, 'traveller': 1, 'arduous': 1, 'earn': 6, 'going': 9, 'accurately': 1, 'temporarily': 1, 'remember': 3, 'achieved': 2, 'removed': 4, 'diligence': 1, 'our': 8, 'trapped': 1, 'take': 12, 'likes': 1, 'travellers': 2, 'enormous': 5, 'wage': 1, 'soft': 1, 'prejudice': 1, 'particular': 6, 'overview': 2, 'staff': 2, 'himself—it': 1, 'businessman': 1, 'mistakes': 1, 'harshly': 1, 'victim': 1, 'gossip': 1, 'chance': 7, 'groundless': 1, 'complaints': 1, 'impossible': 6, 'defend': 1, 'usually': 3, 'arrive': 1, 'exhausted': 2, 'trip': 1, 'harmful': 1, 'effects': 1, 'partly': 3, 'started': 4, 'protruding': 1, 'lips': 2, 'stared': 1, 'trembling': 2, 'shoulders': 3, 'steadily': 1, 'gradually': 1, 'secret': 3, 'prohibition': 2, 'reached': 7, 'sudden': 3, 'foot': 6, 'rushed': 6, 'panic': 2, 'stretched': 4, 'stairway': 2, 'supernatural': 1, 'waiting': 3, 'save': 4, 'mood': 4, 'extreme': 1, 'convinced': 3, 'provide': 10, 'besides': 1, 'lost': 6, 'future': 7, 'won': 2, 'depended': 1, 'clever': 1, 'lover': 1, 'women': 16, 'persuade': 3, 'talk': 4, 'considering': 1, 'speech': 1, 'not—or': 1, 'not—be': 1, 'understood': 2, 'reach': 1, 'ridiculously': 1, 'banister': 2, 'scream': 1, 'sought': 1, 'landed': 3, 'numerous': 1, 'Hardly': 3, 'solid': 1, 'pleasure': 7, 'believing': 2, 'sorrows': 1, 'end': 7, 'urge': 5, 'swayed': 2, 'crouched': 1, 'engrossed': 1, 'herself': 18, 'jumped': 2, 'outstretched': 3, 'fingers': 2, 'shouting': 1, 'Help': 2, 'pity': 1, 'sake': 3, 'suggested': 1, 'unthinking': 1, 'hurrying': 2, 'backwards': 4, 'forgotten': 6, 'behind': 15, 'seeming': 1, 'coffee': 3, 'pot': 1, 'knocked': 1, 'gush': 1, 'pouring': 1, 'looking': 10, 'snapping': 1, 'jaws': 2, 'flow': 1, 'screaming': 2, 'anew': 1, 'fled': 3, 'spare': 5, 'chin': 1, 'run': 2, 'reaching': 2, 'leapt': 1, 'shouts': 1, 'resounding': 1, 'staircase': 1, 'flight': 1, 'Until': 1, 'relatively': 3, 'self': 2, 'controlled': 1, 'running': 6, 'impeding': 1, 'seized': 1, 'stick': 5, 'overcoat': 2, 'picked': 3, 'newspaper': 4, 'drive': 4, 'stamping': 1, 'appeals': 3, 'humbly': 1, 'merely': 4, 'stamped': 2, 'Across': 1, 'chilly': 1, 'pulled': 5, 'draught': 1, 'flew': 6, 'curtains': 1, 'fluttered': 1, 'blown': 1, 'Nothing': 2, 'stop': 5, 'drove': 1, 'hissing': 3, 'noises': 2, 'wild': 1, 'practice': 1, 'allowed': 5, 'impatient': 1, 'threat': 1, 'lethal': 1, 'Eventually': 1, 'choice': 2, 'disgust': 1, 'incapable': 1, 'frequent': 2, 'anxious': 1, 'glances': 1, 'intentions': 5, 'hinder': 1, 'tip': 1, 'distance': 3, 'unbearable': 2, 'confused': 1, 'finished': 8, 'mistake': 1, 'pleased': 2, 'doorway': 8, 'further': 4, 'obviously': 4, 'occur': 2, 'space': 2, 'fixed': 1, 'Nor': 1, 'preparation': 1, 'pleasant': 1, 'experience': 2, 'regard': 2, 'angle': 1, 'flank': 1, 'scraped': 1, 'vile': 1, 'flecks': 1, 'stuck': 2, 'fast': 3, 'quivering': 1, 'hefty': 1, 'shove': 3, 'released': 1, 'flying': 1, 'heavily': 3, 'bleeding': 1, 'slammed': 5, 'II': 1, 'until': 11, 'dark': 4, 'awoke': 1, 'coma-like': 1, 'woken': 2, 'afterwards': 2, 'hadn': 2, 'fully': 7, 'impression': 2, 'leading': 2, 'light': 7, 'electric': 2, 'lamps': 1, 'shone': 1, 'palely': 1, 'ceiling': 7, 'tops': 1, 'furniture': 14, 'feeling': 3, 'clumsily': 1, 'antennae—of': 1, 'beginning': 3, 'value—in': 1, 'scar': 1, 'limped': 1, 'badly': 2, 'rows': 1, 'events': 1, 'morning—it': 1, 'been—and': 1, 'dragged': 2, 'lifelessly': 1, 'actually': 7, 'smell': 3, 'eat': 11, 'dish': 7, 'filled': 5, 'sweetened': 1, 'milk': 5, 'pieces': 2, 'bread': 2, 'floating': 1, 'laughed': 1, 'dipped': 1, 'covering': 1, 'disappointment': 2, 'tender': 2, 'food—he': 1, 'worked': 2, 'snuffling': 1, 'whole—but': 1, 'taste': 2, 'Milk': 1, 'normally': 3, 'favourite': 1, 'drink': 1, 'crawled': 4, 'centre': 1, 'Through': 1, 'crack': 2, 'gas': 1, 'lit': 1, 'sometimes': 5, 'write': 1, 'recent': 1, 'lead': 1, 'gazing': 1, 'darkness': 4, 'pride': 2, 'such': 9, 'wealth': 1, 'comfort': 1, 'frightening': 2, 'crawling': 5, 'closed': 8, 'enter': 3, 'waited': 4, 'resolved': 1, 'either': 6, 'timorous': 1, 'vain': 1, 'previous': 2, 'everyone': 9, 'unlocked': 1, 'keys': 1, 'gaslight': 1, 'awake': 1, 'distinctly': 1, 'tip-toe': 3, 'plenty': 1, 'undisturbed': 1, 're-arrange': 1, 'tall': 1, 'empty': 4, 'forced': 5, 'remain': 4, 'uneasy': 3, 'shame': 2, 'couch': 16, 'nonetheless': 3, 'ease': 1, 'regret': 3, 'underneath': 1, 'spent': 4, 'Some': 2, 'passed': 2, 'frequently': 2, 'hunger': 3, 'vague': 1, 'hopes': 1, 'led': 2, 'conclusion': 1, 'patience': 1, 'greatest': 3, 'bear': 4, 'unpleasantness': 1, 'impose': 1, 'opportunity': 3, 'test': 3, 'decisions': 1, 'ended': 1, 'anxiously': 4, 'couch—he': 1, 'flown': 1, 'away—she': 1, 'stranger': 2, 'edge': 1, 'watched': 3, 'Would': 3, 'realise': 3, 'rather': 4, 'hungry': 2, 'draw': 2, 'terrible': 1, 'feet': 4, 'drops': 1, 'splashed': 2, 'surprise': 5, 'up—using': 1, 'rag': 1, 'bare': 3, 'hands—and': 1, 'carried': 5, 'imagining': 1, 'wildest': 1, 'possibilities': 1, 'guessed': 1, 'goodness': 1, 'brought': 4, 'selection': 1, 'old': 14, 'half-rotten': 1, 'vegetables': 2, 'bones': 1, 'sauce': 2, 'raisins': 1, 'almonds': 1, 'cheese': 3, 'declared': 1, 'inedible': 1, 'days': 10, 'dry': 1, 'roll': 1, 'butter': 1, 'salt': 1, 'poured': 1, 'water': 2, 'permanently': 2, 'aside': 2, 'placed': 2, 'feelings': 1, 'comfortable': 3, 'liked': 3, 'whirred': 1, 'injuries': 2, 'healed': 1, 'month': 4, 'finger': 3, 'knife': 1, 'hurt': 2, 'yesterday': 1, 'Am': 1, 'less': 2, 'sucking': 1, 'greedily': 1, 'compellingly': 1, 'attracted': 1, 'foods': 2, 'Quickly': 1, 'another': 7, 'watering': 1, 'consumed': 1, 'stand': 8, 'Long': 1, 'lethargic': 1, 'withdraw': 1, 'startled': 5, 'asleep': 5, 'self-control': 1, 'rounded': 1, 'breathe': 4, 'Half': 1, 'suffocating': 2, 'bulging': 1, 'unselfconsciously': 1, 'broom': 5, 'swept': 1, 'left-overs': 1, 'mixing': 1, 'dropped': 1, 'bin': 1, 'lid': 1, 'received': 7, 'second': 3, 'eaten': 3, 'midday': 3, 'send': 5, 'errand': 1, 'starve': 1, 'feeding': 1, 'distress': 2, 'indeed': 5, 'suffering': 1, 'content': 1, 'sighs': 1, 'saints': 1, 'everything—there': 1, 'becoming': 4, 'situation—that': 1, 'comment': 2, 'construed': 1, 'enjoyed': 1, 'dinner': 4, 'diligently': 1, 'cleared': 2, 'sadly': 1, 'Although': 2, 'news': 3, 'directly': 3, 'rooms': 2, 'scurry': 1, 'appropriate': 1, 'press': 1, 'seldom': 1, 'mealtime': 1, 'meals': 2, 'subject': 2, 'home—nobody': 1, 'knees': 1, 'begged': 1, 'delay': 3, 'within': 5, 'hour': 2, 'tearfully': 1, 'thanking': 1, 'dismissal': 1, 'swore': 1, 'emphatically': 1, 'cooking': 1, 'bother': 1, 'ate': 3, 'unsuccessfully': 1, 'receive': 4, 'thanks': 2, 'similar': 1, 'No-one': 4, 'drank': 1, 'beer': 1, 'hoping': 1, 'fetch': 4, 'add': 1, 'selfish': 1, 'housekeeper': 1, 'Even': 2, 'explained': 1, 'finances': 1, 'prospects': 2, 'receipt': 3, 'document': 1, 'cash': 2, 'box': 1, 'saved': 1, 'collapsed': 2, 'complicated': 1, 'taken': 15, 'item': 1, 'incarcerated': 1, 'Their': 2, 'misfortune': 3, 'reduced': 2, 'despair': 3, 'arrange': 1, 'fiery': 1, 'vigour': 1, 'junior': 1, 'salesman': 1, 'representative': 1, 'overnight': 1, 'ways': 2, 'converted': 1, 'success': 2, 'benefit': 1, 'delighted': 1, 'splendour': 1, 'earned': 3, 'costs': 3, 'gratitude': 2, 'warm': 3, 'affection': 1, 'return': 4, 'Unlike': 1, 'fond': 3, 'music': 7, 'gifted': 1, 'expressive': 1, 'violinist': 1, 'plan': 2, 'conservatory': 3, 'expense': 2, 'During': 2, 'periods': 1, 'mentioned': 1, 'lovely': 1, 'decided': 4, 'planned': 1, 'grand': 1, 'announcement': 1, 'Christmas': 2, 'totally': 6, 'pointless': 1, 'mind': 3, 'tired': 7, 'continue': 3, 'wearily': 1, 'pull': 3, 'silent': 5, 'interrupted': 2, 'repeated': 3, 'matters': 1, 'explanations': 2, 'misfortunes': 1, 'available': 3, 'lot': 4, 'meantime': 1, 'interest': 3, 'accumulated': 1, 'Besides': 1, 'keeping': 4, 'accumulating': 1, 'Behind': 1, 'nodded': 3, 'enthusiasm': 1, 'unexpected': 2, 'thrift': 1, 'caution': 1, 'surplus': 1, 'reduce': 1, 'freed': 1, 'closer': 3, 'enable': 1, 'maintain': 1, 'emergencies': 1, 'healthy': 1, 'lacking': 1, 'working—the': 1, 'holiday': 2, 'strain': 3, 'success—he': 1, 'slow': 5, 'clumsy': 1, 'elderly': 2, 'suffered': 2, 'asthma': 1, 'struggling': 2, 'sofa': 3, 'child': 3, 'seventeen': 1, 'till': 1, 'enviable': 1, 'consisting': 1, 'wearing': 2, 'clothes': 3, 'helping': 2, 'joining': 1, 'modest': 1, 'pleasures': 1, 'playing': 13, 'violin': 12, 'Whenever': 1, 'cool': 1, 'leather': 2, 'hot': 2, 'lie': 2, 'wink': 1, 'scratching': 1, 'Or': 1, 'climbing': 1, 'sill': 1, 'propped': 1, 'leaning': 1, 'stare': 1, 'sense': 1, 'freedom': 1, 'experienced': 3, 'distinct': 1, 'ever-present': 1, 'hospital': 1, 'known': 2, 'lived': 2, 'Charlottenstrasse': 1, 'middle': 11, 'city': 1, 'barren': 1, 'grey': 2, 'sky': 1, 'earth': 1, 'mingled': 1, 'inseparably': 1, 'observant': 1, 'twice': 2, 'exact': 1, 'tidied': 2, 'inner': 1, 'thank': 1, 'easier': 3, 'naturally': 1, 'pretend': 1, 'burdensome': 2, 'unpleasant': 2, 'entered': 1, 'sooner': 1, 'precaution': 1, 'shivering': 1, 'ordeal': 1, 'transformation': 2, 'appearance': 4, 'staring': 2, 'motionless': 1, 'coming': 5, 'threatened': 2, 'bite': 1, 'hide': 1, 'flee': 1, 'protruded': 1, 'carrying': 3, 'bedsheet': 1, 'arranged': 1, 'bent': 6, 'sheet': 6, 'necessary': 4, 'glimpsed': 1, 'arrangement': 2, 'fourteen': 1, 'appreciated': 2, 'girl': 1, 'somewhat': 2, 'useless': 1, 'behaved': 1, 'improvement': 3, 'visit': 3, 'persuaded': 1, 'listened': 2, 'closely': 2, 'approved': 1, 'Later': 1, 'Let': 2, 'unfortunate': 1, 'courage': 1, 'adult': 1, 'appreciation': 1, 'Out': 1, 'square': 1, 'meters': 1, 'crawl': 7, 'entertain': 1, 'freely': 5, 'relaxed': 1, 'happy': 1, 'letting': 3, 'crash': 1, 'Very': 1, 'entertaining': 3, 'himself—he': 1, 'traces': 1, 'about—and': 1, 'removing': 2, 'dare': 3, 'sixteen': 1, 'bravely': 1, 'cook': 1, 'helped': 2, 'unless': 4, 'choose': 2, 'approached': 1, 'express': 1, 'joy': 1, 'folds': 1, 'thrown': 3, 'refrained': 1, 'spying': 1, 'pair': 1, 'feeble': 1, 'heaving': 1, 'heaviest': 2, 'warnings': 2, 'lasted': 1, 'labouring': 1, 'fifteen': 1, 'minutes': 2, 'saddened': 1, 'heart': 1, 'abandoned': 2, 'whose': 1, 'whereabouts': 1, 'tone': 1, 'added': 1, 'cope': 1, 'comes': 1, 'unchanged': 1, 'Hearing': 1, 'communication': 1, 'monotonous': 1, 'months': 2, 'confused—he': 1, 'emptied': 1, 'transform': 1, 'cave': 1, 'inherited': 1, 'unimpeded': 1, 'shaken': 1, 'influence': 1, 'mindlessly': 1, 'loss': 1, 'advantage': 1, 'agree': 8, 'spokesman': 1, 'concerned': 1, 'meant': 6, 'advice': 1, 'sufficient': 1, 'insist': 3, 'all-important': 1, 'childish': 1, 'perversity': 1, 'whereas': 1, 'Girls': 1, 'age': 2, 'enthusiastic': 1, 'tempted': 1, 'dominated': 1, 'refused': 2, 'dissuade': 2, 'writing': 8, 'groaning': 1, 'poked': 2, 'considerate': 2, 'pulling': 1, 'inch': 1, 'startlement': 1, 'prevent': 2, 'attract': 1, 'assure': 1, 'unusual': 1, 'admit': 3, 'fro': 2, 'calls': 1, 'scraping': 1, 'assailed': 1, 'With': 5, 'emptying': 1, 'dear': 1, 'containing': 2, 'tools': 1, 'worn': 2, 'homework': 1, 'trainee': 1, 'high': 4, 'school': 1, 'infant': 1, 'school—he': 1, 'stepped': 4, 'catching': 1, 'sallied': 1, 'changed': 3, 'wall—which': 1, 'denuded': 1, 'it—of': 1, 'copious': 1, 'glass': 2, 'firmly': 1, 'watch': 2, 'shall': 4, 'Her': 4, 'met': 2, 'albeit': 1, 'tremor': 1, 'Come': 4, 'safe': 1, 'chase': 3, 'unyielding': 1, 'jump': 1, 'patch': 1, 'flowers': 1, 'wallpaper': 1, 'screamed': 3, 'oh': 1, 'Arms': 1, 'immobile': 5, 'shouted': 5, 'glowering': 1, 'shaking': 3, 'spoken': 2, 'smelling': 1, 'salts': 1, 'faint': 1, 'too—he': 1, 'advise': 1, 'various': 3, 'bottles': 2, 'bottle': 1, 'broke': 4, 'splinter': 1, 'caustic': 1, 'medicine': 1, 'delaying': 1, 'death': 3, 'oppressed': 1, 'anxiety': 1, 'self-reproach': 1, 'confusion': 2, 'spin': 1, 'numb': 1, 'arrived': 4, 'subdued': 1, 'openly': 1, 'fainted': 2, 'out.': 2, 'mean': 3, 'responsible': 1, 'act': 1, 'violence': 1, 'disappear': 2, 'subtleties': 1, 'Ah': 1, 'sounding': 1, 'angry': 1, 'imagined': 1, 'neglected': 2, 'laying': 2, 'entombed': 1, 'trips': 1, 'armchair': 1, 'nightgown': 2, 'walk': 2, 'Sunday': 1, 'public': 4, 'wrapped': 1, 'labour': 1, 'walking': 1, 'invariably': 1, 'companions': 2, 'standing': 3, 'smart': 1, 'blue': 1, 'gold': 3, 'buttons': 3, 'banking': 1, 'institute': 1, 'collar': 2, 'coat': 4, 'double-chin': 1, 'emerged': 1, 'bushy': 1, 'eyebrows': 1, 'alert': 1, 'unkempt': 1, 'combed': 1, 'scalp': 1, 'cap': 3, 'monogram': 1, 'bank': 2, 'arc': 1, 'trouser': 1, 'pockets': 4, 'bottom': 1, 'determination': 1, 'walked': 1, 'unusually': 1, 'soles': 1, 'wasted': 1, 'that—he': 1, 'strict': 1, 'scurried': 1, 'decisive': 1, 'largely': 1, 'feared': 1, 'provoking': 1, 'step': 1, 'countless': 1, 'movements': 3, 'noticeably': 1, 'lungs': 1, 'reliable': 1, 'lurched': 1, 'muster': 1, 'saving': 1, 'forgot': 2, 'concealed': 1, 'carved': 1, 'notches': 1, 'protrusions—then': 1, 'tossed': 1, 'apple': 5, 'shock': 2, 'point': 2, 'bombard': 1, 'fruit': 1, 'bowl': 1, 'sideboard': 1, 'aim': 1, 'These': 2, 'red': 1, 'apples': 1, 'motors': 1, 'An': 1, 'glanced': 1, 'harm': 1, 'Another': 1, 'squarely': 1, 'lodged': 2, 'drag': 1, 'incredible': 1, 'changing': 1, 'nailed': 1, 'senses': 1, 'blouse': 1, 'unfastened': 1, 'sliding': 1, 'stumbling': 1, 'uniting': 1, 'totally—now': 1, 'ability': 1, 'anything—her': 1, 'begging': 1, 'III': 1, 'dared': 2, 'flesh': 1, 'visible': 1, 'reminder': 1, 'injury': 2, 'current': 3, 'revolting': 1, 'form': 5, 'member': 1, 'treated': 1, 'enemy': 1, 'contrary': 3, 'duty': 1, 'swallow': 1, 'revulsion': 1, 'mobility—probably': 1, 'ancient': 1, 'invalid': 1, 'room—crawling': 1, 'question—but': 1, 'deterioration': 1, 'opinion': 1, 'conversation—with': 1, 'permission': 9, 'thus': 1, 'differently': 1, 'conversations': 1, 'ones': 1, 'longing': 1, 'damp': 1, 'hotel': 2, 'All': 5, 'nowadays': 1, 'Soon': 1, 'lamp': 1, 'sew': 1, 'fancy': 1, 'underwear': 1, 'fashion': 1, 'shop': 2, 'sales': 1, 'shorthand': 1, 'French': 1, 'Sometimes': 2, 'wake': 2, 'sewing': 2, 'dozing—and': 1, 'exchange': 2, 'grin': 1, 'unused': 1, 'peg': 1, 'slumber': 1, 'serve': 1, 'expecting': 1, 'superior': 1, 'result': 1, 'shabbier': 1, 'stains': 1, 'shiny': 1, 'uncomfortable': 1, 'peaceful': 2, 'obstinate': 1, 'regularly': 1, 'importune': 1, 'reproaches': 1, 'refusing': 1, 'tug': 2, 'sleeve': 1, 'whisper': 1, 'endearments': 1, 'ear': 2, 'effect': 1, 'sink': 1, 'deeper': 1, 'abruptly': 1, 'supported': 1, 'needle': 1, 'pen': 1, 'Who': 1, 'overworked': 1, 'absolutely': 3, 'household': 1, 'budget': 1, 'smaller': 2, 'dismissed': 1, 'thick-boned': 1, 'charwoman': 9, 'flapped': 1, 'amount': 1, 'hoped': 1, 'items': 1, 'jewellery': 1, 'belonging': 1, 'sold': 2, 'functions': 1, 'celebrations': 1, 'loudest': 1, 'complaint': 1, 'imaginable': 1, 'transferring': 1, 'address': 2, 'reasons': 1, 'transport': 1, 'crate': 1, 'holes': 1, 'unlike': 1, 'related': 1, 'expects': 1, 'poor': 1, 'sacrificed': 1, 'strangers': 2, 'behest': 1, 'customers': 1, 'sit': 5, 'cheek': 2, 'Close': 1, 'mingle': 1, 'dry-eyed': 1, 'affairs': 1, 'apprentices': 1, 'teaboy': 1, 'friends': 4, 'businesses': 1, 'chambermaids': 1, 'provincial': 1, 'memory': 1, 'appeared': 5, 'cashier': 1, 'whom': 3, '—all': 1, 'inaccessible': 1, 'rage': 1, 'shown': 2, 'plans': 1, 'pantry': 1, 'entitled': 1, 'sweep': 1, 'indifferent': 2, 'or—more': 1, 'not—had': 1, 'untouched': 1, 'quicker': 1, 'Smears': 1, 'dirt': 2, 'balls': 1, 'dust': 3, 'filth': 1, 'worst': 1, 'places': 1, 'reproach': 1, 'weeks': 1, 'touchy': 1, 'understood—cleaning': 1, 'alone': 3, 'thoroughly': 1, 'clean': 3, 'bucketfuls': 1, 'it—although': 1, 'dampness': 1, 'bitter': 1, 'punished': 1, 'aggrieved': 1, 'mothers': 1, 'imploring': 1, 'convulsive': 1, 'helpless': 1, 'agitated': 1, 'accused': 1, 'cleaning': 1, 'bedroom': 4, 'quaking': 1, 'thumped': 1, 'hissed': 1, 'closing': 2, 'widow': 1, 'robust': 1, 'bone': 1, 'structure': 1, 'withstand': 1, 'hardest': 1, 'repelled': 1, 'curiosity': 1, 'chasing': 1, 'amazement': 2, 'crossed': 2, 'failed': 2, 'briefly': 4, 'considered': 1, 'dung-beetle': 2, 'responded': 1, 'disturb': 1, 'windowpanes': 1, 'indicating': 3, 'spring': 1, 'resentful': 1, 'toward': 2, 'infirm': 1, 'Instead': 1, 'chairs': 3, 'intending': 1, 'corner': 4, 'prepared': 2, 'play': 3, 'spit': 2, 'changes': 1, 'rented': 4, 'earnest': 1, 'gentlemen—all': 1, 'beards': 3, 'peering': 1, 'day—were': 1, 'tidy': 1, 'establishment': 1, 'Unnecessary': 1, 'clutter': 1, 'tolerate': 1, 'dirty': 1, 'furnishings': 1, 'equipment': 4, 'superfluous': 1, 'discard': 1, 'dustbins': 1, 'hurry': 3, 'chuck': 1, 'object': 1, 'woman': 1, 'likely': 1, 'junk': 1, 'enjoy': 1, 'lain': 2, 'darkest': 1, 'formerly': 1, 'serviettes': 1, 'knives': 1, 'forks': 1, 'meat': 2, 'piled': 1, 'potatoes': 1, 'steaming': 1, 'dishes': 1, 'gentleman': 5, 'count': 1, 'authority': 1, 'piece': 1, 'wishing': 1, 'establish': 1, 'sufficiently': 1, 'cooked': 1, 'satisfaction': 1, 'smiled': 3, 'Nonetheless': 1, 'bowed': 2, 'mumbled': 1, 'perfect': 1, 'remarkable': 1, 'chewing': 1, 'perform': 2, 'toothless': 1, 'feed': 1, 'dying': 1, 'Throughout': 2, 'played': 3, 'produced': 2, 'page': 3, 'smoking': 1, 'attentive': 1, 'hallway': 3, 'Someone': 1, 'Is': 1, 'away.': 1, 'young': 3, 'cosy': 1, 'love': 2, 'player': 1, 'begin': 2, 'therefore': 1, 'exaggerated': 1, 'courtesy': 1, 'offered': 1, 'seat': 2, 'sat—leaving': 1, 'it—out': 1, 'paid': 7, 'Drawn': 1, 'thoughtless': 1, 'hidden': 1, 'everywhere': 2, 'threads': 1, 'hairs': 1, 'remains': 1, 'wipe': 1, 'shy': 1, 'immaculate': 1, 'preoccupied': 1, 'notes': 1, 'withdrew': 1, 'heads': 1, 'sunk': 1, 'volume': 1, 'observed': 1, 'obvious': 2, 'beautiful': 2, 'disappointed': 1, 'performance': 1, 'politeness': 1, 'unnerving': 1, 'blew': 1, 'smoke': 1, 'cigarettes': 1, 'upwards': 1, 'noses': 1, 'Yet': 1, 'beautifully': 1, 'lines': 1, 'melancholy': 1, 'expression': 2, 'meet': 2, 'captivate': 1, 'unknown': 1, 'nourishment': 1, 'yearning': 1, 'determined': 1, 'skirt': 1, 'hiss': 1, 'attackers': 1, 'Christmas—had': 1, '—if': 1, 'refuse': 1, 'emotion': 2, 'shoulder': 1, 'kiss': 1, 'neck': 3, 'necklace': 1, 'pointing': 1, 'wasting': 1, 'forefinger': 1, 'driving': 1, 'attempted': 1, 'block': 1, 'dawning': 1, 'realisation': 1, 'neighbour': 1, 'tugged': 1, 'drop': 1, 'bow': 1, 'hang': 1, 'limply': 1, 'instrument': 1, 'lap': 2, 'laboriously': 1, 'pressure': 1, 'Under': 1, 'pillows': 1, 'beds': 2, 'slipped': 1, 'obsessed': 1, 'owed': 2, 'tenants': 2, 'urged': 1, 'thunder': 1, 'thereby': 1, 'halt': 1, 'declare': 1, 'glancing': 1, 'gain': 1, 'repugnant': 1, 'conditions': 1, 'prevail': 1, '—here': 1, 'decisively': 1, 'floor—': 1, 'proceed': 1, 'action': 1, 'damages': 3, 'grounds': 1, 'action.': 1, 'ahead': 2, 'joined': 1, 'notice.': 1, 'staggered': 1, 'stretching': 1, 'nap': 1, 'uncontrolled': 1, 'nodding': 1, 'weak': 2, 'Father': 3, 'introduction': 1, 'monster': 1, 'brother': 2, 'rid': 4, 'humanly': 1, 'wrong.': 1, 'cough': 1, 'dully': 1, 'deranged': 1, 'forehead': 1, 'definite': 1, 'ideas': 1, 'plates': 1, 'occasionally': 1, 'coughing': 1, 'tortured': 1, 'endure': 2, 'more.': 1, 'wiped': 1, 'mechanical': 1, 'My': 1, 'sympathy': 1, 'shrugged': 1, 'helplessness': 1, 'displacing': 1, 'certainty': 2, 'vigorously': 2, 'acceptance': 1, '...': 1, 'harmed': 1, 'beings': 1, 'lives': 1, 'persecuting': 1, 'streets': 1, 'starting': 1, 'beyond': 1, 'comprehension': 1, 'willing': 2, 'excited': 1, 'protect': 3, 'startling': 1, 'pain-wracked': 1, 'required': 2, 'deal': 1, 'repeatedly': 1, 'striking': 1, 'alarmed': 1, 'unhappy': 1, 'exhaustion': 1, 'panting': 1, 'separated': 1, 'noticing': 1, 'concentrated': 1, 'distract': 1, 'glance': 2, 'sprung': 1, 'discovery': 1, 'spindly': 1, 'unnatural': 1, 'true': 1, 'aching': 1, 'weaker': 2, 'altogether': 1, 'decayed': 1, 'inflamed': 1, 'area': 1, 'strongly': 1, 'rumination': 1, 'tower': 1, 'strike': 1, 'weakly': 1, 'nostrils': 1, 'cleaner': 9, 'morning—they': 1, 'slamming': 2, 'peace—she': 1, 'brief': 1, 'special': 1, 'purpose': 2, 'martyr': 1, 'attributed': 1, 'tickle': 1, 'nuisance': 1, 'resistance': 1, 'whistled': 1, 'yank': 1, 'shout': 1, 'bedrooms': 1, 'ave': 1, 'dead': 2, 'stone': 1, 'marriage': 1, 'blanket': 1, 'nightdress': 1, 'paleness': 1, 'confirm': 1, 'Dead': 1, 'enquiringly': 1, 'checked': 1, 'checking': 1, 'replied': 1, 'prove': 1, 'sending': 2, 'sideways': 1, 'complete': 1, 'example': 1, 'corpse': 2, 'dried': 1, 'pained': 1, 'warmth': 1, 'March': 1, 'Where': 1, 'irritably': 1, 'quick': 1, 'men': 2, 'well-worn': 1, 'coats': 1, 'wife': 2, 'daughter': 3, 'Leave': 1, 'disconcerted': 1, 'sweetly': 1, 'backs': 1, 'continually': 1, 'gleeful': 1, 'anticipation': 1, 'quarrel': 1, 'favour': 1, 'contents': 1, 'rearranging': 1, 'positions': 1, 'Alright': 1, 'humility': 1, 'strides': 1, 'rubbing': 1, 'friend': 1, 'fear': 1, 'connection': 1, 'leader': 1, 'hats': 1, 'sticks': 1, 'holder': 7, 'premises': 1, 'mistrust': 1, 'leaned': 1, 'progress': 1, 'reappear': 1, 'moments': 1, 'butcher': 1, 'boy': 1, 'proud': 1, 'posture': 1, 'tray': 1, 'nearer': 1, 'relieved': 1, 'wrote': 1, 'letters': 3, 'excusal': 1, 'employers': 1, 'contractor': 1, 'principal': 1, 'irritation': 2, 'tremendous': 1, 'vertical': 1, 'ostrich': 1, 'feather': 1, 'source': 1, 'laugh': 1, 'needn': 1, 'sorted': 1, 'intent': 1, 'continuing': 1, 'describing': 1, 'detail': 1, 'prevented': 1, 'telling': 1, 'peeved': 1, 'Cheerio': 1, 'sharply': 1, 'terribly': 1, 'Tonight': 1, 'gets': 1, 'destroyed': 1, 'gained': 1, 'twisted': 1, 'stuff': 1, 'kissed': 1, 'hugged': 1, 'tram': 2, 'sunshine': 1, 'Leant': 1, 'comfortably': 1, 'seats': 1, 'discussed': 1, 'examination': 1, 'bad—until': 1, 'jobs': 1, 'promise': 1, 'cheaper': 1, 'location': 1, 'practical': 1, 'livelier': 1, 'cheeks': 1, 'pale': 1, 'simultaneously': 1, 'blossoming': 1, 'built': 1, 'quieter': 1, 'agreed': 2, 'confirmation': 2, 'destination': 1, 'END': 1, 'named': 1, '5200-0.txt': 1, '5200-0.zip': 1, 'associated': 8, 'files': 2, 'formats': 2, 'https': 1, '//www.gutenberg.org/5/2/0/5200/': 1, 'Updated': 1, 'editions': 4, 'replace': 1, '--': 2, 'renamed': 1, 'Creating': 1, 'works': 33, 'print': 1, 'protected': 6, 'U.S.': 7, 'law': 8, 'means': 3, 'owns': 2, 'Foundation': 24, 'distribute': 5, 'royalties': 3, 'Special': 1, 'rules': 1, 'General': 3, 'Terms': 2, 'Use': 2, 'license': 5, 'apply': 1, 'copying': 4, 'distributing': 7, 'Gutenberg-tm': 55, 'electronic': 27, 'GUTENBERG-tm': 1, 'concept': 2, 'trademark': 12, 'registered': 2, 'charge': 6, 'except': 1, 'including': 8, 'copies': 7, 'complying': 3, 'creation': 1, 'derivative': 3, 'reports': 1, 'performances': 1, 'research': 2, 'eBooks': 7, 'modified': 1, 'printed': 2, 'practically': 1, 'ANYTHING': 1, 'Redistribution': 1, 'redistribution': 1, 'FULL': 2, 'LICENSE': 2, 'PLEASE': 1, 'READ': 1, 'THIS': 3, 'BEFORE': 1, 'YOU': 6, 'DISTRIBUTE': 1, 'OR': 6, 'USE': 1, 'WORK': 1, 'To': 4, 'mission': 3, 'promoting': 2, 'distribution': 6, 'phrase': 4, '``': 11, \"''\": 11, 'comply': 6, 'Full': 1, 'www.gutenberg.org/license': 1, 'Section': 7, 'Redistributing': 1, '1.A': 1, 'indicate': 1, 'intellectual': 2, 'property': 2, 'trademark/copyright': 1, 'agreement': 17, 'abide': 1, 'cease': 1, 'destroy': 2, 'possession': 1, 'fee': 8, 'obtaining': 2, 'access': 10, 'obtain': 3, 'refund': 8, 'entity': 3, 'paragraph': 10, '1.E.8': 4, '1.B': 1, 'See': 2, '1.C': 2, 'preserve': 1, '1.E': 2, 'Literary': 13, 'Archive': 13, 'PGLAF': 1, 'compilation': 1, 'Nearly': 1, 'domain': 2, 'unprotected': 1, 'performing': 3, 'displaying': 4, 'creating': 3, 'based': 2, 'references': 2, 'Of': 1, 'support': 4, 'sharing': 1, 'compliance': 4, 'name': 1, 'format': 4, 'attached': 1, 'share': 1, 'remainder': 1, 'Information': 6, 'owner': 4, 'imposed': 2, '1.D': 1, 'govern': 1, 'countries': 1, 'constant': 1, 'addition': 1, 'downloading': 1, 'representations': 1, 'concerning': 2, 'status': 4, 'Unless': 1, '1.E.1': 5, 'sentence': 2, 'active': 2, 'links': 3, 'prominently': 2, 'appears': 1, 'accessed': 1, 'displayed': 1, 'performed': 1, 'viewed': 1, 'copied': 2, 'distributed': 4, '1.E.2': 1, 'derived': 1, 'texts': 1, 'does': 2, 'contain': 2, 'posted': 4, 'fees': 4, 'charges': 1, 'redistributing': 1, 'providing': 4, 'appearing': 1, 'requirements': 4, 'paragraphs': 3, '1.E.7': 3, '1.E.9': 3, '1.E.3': 1, 'additional': 2, 'Additional': 1, 'linked': 1, '1.E.4': 1, 'unlink': 1, 'detach': 1, '1.E.5': 1, 'display': 1, 'redistribute': 1, '1.E.6': 1, 'convert': 1, 'binary': 1, 'compressed': 1, 'marked': 2, 'nonproprietary': 1, 'proprietary': 1, 'processing': 1, 'hypertext': 1, 'Plain': 2, 'Vanilla': 2, 'ASCII': 2, 'official': 3, 'version': 1, 'website': 4, 'user': 3, 'exporting': 1, 'upon': 2, 'original': 1, 'Any': 1, 'alternate': 1, 'include': 1, 'specified': 2, 'viewing': 1, 'reasonable': 1, 'provided': 3, 'royalty': 1, '%': 1, 'gross': 1, 'profits': 1, 'derive': 1, 'calculated': 1, 'calculate': 1, 'applicable': 3, 'taxes': 1, 'donate': 3, 'Royalty': 2, 'payments': 3, 'date': 2, 'prepare': 2, 'legally': 1, 'periodic': 1, 'tax': 6, 'returns': 1, 'donations': 12, 'notifies': 1, 'e-mail': 1, 's/he': 1, 'require': 1, 'possessed': 1, 'physical': 2, 'medium': 5, 'discontinue': 1, 'accordance': 2, '1.F.3': 5, 'replacement': 3, 'defect': 2, 'discovered': 1, 'group': 1, 'manager': 1, 'Contact': 1, '1.F': 1, '1.F.1': 1, 'volunteers': 4, 'expend': 1, 'considerable': 2, 'identify': 1, 'transcribe': 1, 'proofread': 1, 'stored': 1, 'Defects': 1, 'limited': 2, 'incomplete': 1, 'inaccurate': 1, 'corrupt': 1, 'data': 1, 'transcription': 1, 'errors': 1, 'infringement': 1, 'defective': 3, 'damaged': 1, 'disk': 1, 'computer': 2, 'virus': 1, 'codes': 1, '1.F.2': 1, 'LIMITED': 3, 'WARRANTY': 2, 'DISCLAIMER': 1, 'DAMAGES': 2, '-': 3, 'Except': 2, 'Right': 1, 'Replacement': 1, 'Refund': 1, 'described': 1, 'party': 1, 'disclaim': 1, 'liability': 2, 'expenses': 2, 'legal': 2, 'AGREE': 2, 'THAT': 2, 'HAVE': 1, 'NO': 2, 'REMEDIES': 1, 'FOR': 3, 'NEGLIGENCE': 1, 'STRICT': 1, 'LIABILITY': 1, 'BREACH': 2, 'CONTRACT': 1, 'EXCEPT': 1, 'THOSE': 1, 'PROVIDED': 1, 'IN': 1, 'PARAGRAPH': 1, 'FOUNDATION': 1, 'TRADEMARK': 1, 'OWNER': 1, 'AND': 1, 'ANY': 3, 'DISTRIBUTOR': 1, 'UNDER': 1, 'AGREEMENT': 1, 'WILL': 1, 'NOT': 2, 'BE': 1, 'LIABLE': 1, 'TO': 2, 'ACTUAL': 1, 'DIRECT': 1, 'INDIRECT': 1, 'CONSEQUENTIAL': 1, 'PUNITIVE': 1, 'INCIDENTAL': 1, 'EVEN': 1, 'IF': 1, 'GIVE': 1, 'NOTICE': 1, 'POSSIBILITY': 1, 'SUCH': 1, 'DAMAGE': 1, 'RIGHT': 1, 'REPLACEMENT': 1, 'REFUND': 1, 'discover': 1, 'receiving': 1, 'written': 3, 'elect': 1, 'lieu': 2, 'electronically': 2, 'demand': 1, 'opportunities': 1, 'fix': 1, 'problem': 1, '1.F.4': 1, \"'AS-IS\": 1, \"'\": 1, 'WITH': 1, 'OTHER': 1, 'WARRANTIES': 2, 'KIND': 1, 'EXPRESS': 1, 'IMPLIED': 1, 'INCLUDING': 1, 'BUT': 1, 'MERCHANTABILITY': 1, 'FITNESS': 1, 'PURPOSE': 1, '1.F.5': 1, 'states': 4, 'disclaimers': 1, 'certain': 2, 'implied': 1, 'warranties': 1, 'exclusion': 1, 'limitation': 3, 'types': 1, 'disclaimer': 2, 'violates': 1, 'interpreted': 1, 'maximum': 1, 'permitted': 2, 'invalidity': 1, 'unenforceability': 1, 'provision': 1, 'void': 1, 'remaining': 1, 'provisions': 1, '1.F.6': 1, 'INDEMNITY': 1, 'indemnify': 1, 'agent': 1, 'employee': 1, 'production': 1, 'promotion': 1, 'harmless': 1, 'arise': 1, 'indirectly': 1, 'b': 1, 'alteration': 1, 'modification': 1, 'additions': 1, 'deletions': 1, 'c': 2, 'Defect': 1, 'Mission': 1, 'synonymous': 1, 'readable': 1, 'widest': 2, 'variety': 1, 'computers': 2, 'obsolete': 1, 'middle-aged': 1, 'exists': 1, 'hundreds': 1, 'walks': 1, 'Volunteers': 1, 'financial': 1, 'assistance': 1, 'critical': 1, \"Gutenberg-tm's\": 1, 'goals': 1, 'ensuring': 1, 'generations': 2, 'created': 2, 'permanent': 1, 'Sections': 1, 'information': 3, 'non-profit': 1, 'educational': 1, 'corporation': 1, 'organized': 1, 'Mississippi': 1, 'granted': 1, 'exempt': 2, 'Internal': 1, 'Revenue': 1, 'Service': 1, \"'s\": 4, 'EIN': 1, 'federal': 2, 'identification': 1, '64-6221541': 1, 'Contributions': 1, 'deductible': 1, 'extent': 1, 'North': 1, 'West': 1, 'Salt': 1, 'Lake': 1, 'City': 1, 'UT': 1, '596-1887': 1, 'Email': 1, 'www.gutenberg.org/contact': 1, 'Donations': 2, 'depends': 1, 'survive': 1, 'widespread': 1, 'increasing': 1, 'licensed': 1, 'machine-readable': 1, 'accessible': 1, 'array': 1, 'outdated': 1, 'Many': 1, '$': 2, '5,000': 1, 'maintaining': 1, 'IRS': 1, 'committed': 1, 'regulating': 1, 'charities': 1, 'charitable': 1, 'Compliance': 1, 'paperwork': 1, 'solicit': 2, 'locations': 1, 'SEND': 1, 'DONATIONS': 1, 'determine': 1, 'www.gutenberg.org/donate': 2, 'While': 1, 'contributions': 1, 'solicitation': 1, 'accepting': 1, 'unsolicited': 1, 'donors': 1, 'approach': 1, 'offers': 1, 'International': 1, 'gratefully': 1, 'accepted': 2, 'statements': 1, 'treatment': 1, 'swamp': 1, 'web': 1, 'pages': 1, 'donation': 1, 'methods': 1, 'addresses': 1, 'checks': 1, 'credit': 1, 'card': 1, 'About': 1, 'Professor': 1, 'Michael': 1, 'S.': 1, 'Hart': 1, 'originator': 1, 'library': 1, 'shared': 1, 'forty': 1, 'loose': 1, 'network': 1, 'volunteer': 1, 'confirmed': 1, 'Thus': 1, 'necessarily': 1, 'edition': 1, 'PG': 1, 'search': 1, 'facility': 1, 'includes': 1, 'produce': 1, 'subscribe': 1, 'email': 1, 'newsletter': 1}\n"
          ]
        }
      ],
      "source": [
        "# getting the tokens\n",
        "tokens = word_tokenize(raw)\n",
        "len(tokens)\n",
        "# ascertaining the corpora obtained has atleast 200 unique words\n",
        "fdist1 = nltk.FreqDist(tokens)\n",
        "\n",
        "filtered_word_freq = dict((token, freq) for token, freq in fdist1.items() if not token.isdigit())\n",
        "\n",
        "print(filtered_word_freq)"
      ]
    },
    {
      "cell_type": "code",
      "execution_count": 6,
      "metadata": {
        "colab": {
          "base_uri": "https://localhost:8080/"
        },
        "id": "uDdAHHnZ28Ok",
        "outputId": "db29ca15-fa22-4637-99ef-3e8d3525f5bf"
      },
      "outputs": [
        {
          "output_type": "execute_result",
          "data": {
            "text/plain": [
              "4143"
            ]
          },
          "metadata": {},
          "execution_count": 6
        }
      ],
      "source": [
        "# getting the count of the unique words - it is more than 200 words\n",
        "text = raw\n",
        "\n",
        "def unique_words(text):\n",
        "    words = text.replace('\"','').replace(',', '').split()\n",
        "    unique = list(set(words))\n",
        "    return len(unique)\n",
        "\n",
        "unique_words(text)"
      ]
    },
    {
      "cell_type": "code",
      "execution_count": 6,
      "metadata": {
        "id": "pcLc4sib28Ol"
      },
      "outputs": [],
      "source": [
        ""
      ]
    },
    {
      "cell_type": "code",
      "execution_count": 6,
      "metadata": {
        "id": "qUtQQJ0L28Ol"
      },
      "outputs": [],
      "source": [
        ""
      ]
    },
    {
      "cell_type": "code",
      "execution_count": 6,
      "metadata": {
        "id": "v_QlAaaT28Ol"
      },
      "outputs": [],
      "source": [
        ""
      ]
    },
    {
      "cell_type": "code",
      "execution_count": 6,
      "metadata": {
        "id": "-eS8d7u028Om"
      },
      "outputs": [],
      "source": [
        ""
      ]
    },
    {
      "cell_type": "code",
      "execution_count": 6,
      "metadata": {
        "id": "nqGeQw4n28Om"
      },
      "outputs": [],
      "source": [
        ""
      ]
    },
    {
      "cell_type": "code",
      "execution_count": 7,
      "metadata": {
        "colab": {
          "base_uri": "https://localhost:8080/"
        },
        "id": "1nE7VwyF28Om",
        "outputId": "3d12dd3f-cf44-4833-c45b-877694a18c53"
      },
      "outputs": [
        {
          "output_type": "stream",
          "name": "stdout",
          "text": [
            "*** Introductory Examples for the NLTK Book ***\n",
            "Loading text1, ..., text9 and sent1, ..., sent9\n",
            "Type the name of the text or sentence to view it.\n",
            "Type: 'texts()' or 'sents()' to list the materials.\n",
            "text1: Moby Dick by Herman Melville 1851\n",
            "text2: Sense and Sensibility by Jane Austen 1811\n",
            "text3: The Book of Genesis\n",
            "text4: Inaugural Address Corpus\n",
            "text5: Chat Corpus\n",
            "text6: Monty Python and the Holy Grail\n",
            "text7: Wall Street Journal\n",
            "text8: Personals Corpus\n",
            "text9: The Man Who Was Thursday by G . K . Chesterton 1908\n"
          ]
        }
      ],
      "source": [
        "from nltk.book import *"
      ]
    },
    {
      "cell_type": "code",
      "execution_count": 8,
      "metadata": {
        "colab": {
          "base_uri": "https://localhost:8080/"
        },
        "id": "Q4vG8VtU28Om",
        "outputId": "0e64ff0d-7bf8-4dcc-df29-60bb96b75e25"
      },
      "outputs": [
        {
          "output_type": "execute_result",
          "data": {
            "text/plain": [
              "<Text: Moby Dick by Herman Melville 1851>"
            ]
          },
          "metadata": {},
          "execution_count": 8
        }
      ],
      "source": [
        "text1"
      ]
    },
    {
      "cell_type": "code",
      "execution_count": 9,
      "metadata": {
        "colab": {
          "base_uri": "https://localhost:8080/"
        },
        "id": "jduqpPWZ28On",
        "outputId": "a6cac854-85d1-4991-beb5-baaca5e54920"
      },
      "outputs": [
        {
          "output_type": "execute_result",
          "data": {
            "text/plain": [
              "<Text: Sense and Sensibility by Jane Austen 1811>"
            ]
          },
          "metadata": {},
          "execution_count": 9
        }
      ],
      "source": [
        "text2"
      ]
    },
    {
      "cell_type": "code",
      "execution_count": 10,
      "metadata": {
        "colab": {
          "base_uri": "https://localhost:8080/",
          "height": 226
        },
        "id": "zrVinjt128On",
        "outputId": "7f1b61d7-839c-48f5-9516-9e4e63bb8c1c"
      },
      "outputs": [
        {
          "output_type": "stream",
          "name": "stderr",
          "text": [
            "Building ngram index...\n"
          ]
        },
        {
          "output_type": "stream",
          "name": "stdout",
          "text": [
            "lamb for a burnt offering in the city . , duke Elah , duke Shobal ,\n",
            "and Akan . and looked upon my affliction . Because the LORD God\n",
            "amongst the trees of the mighty God of Abraham his father , that they\n",
            "found a plain man , and the wo The blessings of my hand to do justice\n",
            "and judgment ; that the LORD that spake unto me , and put him into the\n",
            "ark , and for your little ones . they heard that they have brought it\n",
            "unto Hagar , Sarai ' s brother will I slay\n"
          ]
        },
        {
          "output_type": "execute_result",
          "data": {
            "text/plain": [
              "\"lamb for a burnt offering in the city . , duke Elah , duke Shobal ,\\nand Akan . and looked upon my affliction . Because the LORD God\\namongst the trees of the mighty God of Abraham his father , that they\\nfound a plain man , and the wo The blessings of my hand to do justice\\nand judgment ; that the LORD that spake unto me , and put him into the\\nark , and for your little ones . they heard that they have brought it\\nunto Hagar , Sarai ' s brother will I slay\""
            ],
            "application/vnd.google.colaboratory.intrinsic+json": {
              "type": "string"
            }
          },
          "metadata": {},
          "execution_count": 10
        }
      ],
      "source": [
        "text3.generate()"
      ]
    },
    {
      "cell_type": "code",
      "execution_count": 11,
      "metadata": {
        "colab": {
          "base_uri": "https://localhost:8080/"
        },
        "id": "1BxIJFKS28Oo",
        "outputId": "23253ba7-9481-4128-de33-0d9b3aa705fb"
      },
      "outputs": [
        {
          "output_type": "execute_result",
          "data": {
            "text/plain": [
              "44764"
            ]
          },
          "metadata": {},
          "execution_count": 11
        }
      ],
      "source": [
        "len(text3)"
      ]
    },
    {
      "cell_type": "markdown",
      "metadata": {
        "id": "MYLzLbCY28Oo"
      },
      "source": [
        "###  Reading and tokenizing the text file"
      ]
    },
    {
      "cell_type": "code",
      "execution_count": 12,
      "metadata": {
        "colab": {
          "base_uri": "https://localhost:8080/",
          "height": 174
        },
        "id": "x0Pp_dIE28Op",
        "outputId": "24e48840-19bf-4252-f788-4694e7ab99c2"
      },
      "outputs": [
        {
          "output_type": "execute_result",
          "data": {
            "text/plain": [
              "'magna sit amet purus gravida quis blandit turpis cursus in hac habitasse platea dictumst quisque sagittis purus sit amet volutpat consequat mauris nunc congue nisi vitae suscipit tellus mauris a diam maecenas sed enim ut sem viverra aliquet eget sit amet tellus cras adipiscing enim eu turpis egestas pretium aenean pharetra magna ac placerat vestibulum lectus mauris ultrices eros in cursus turpis massa tincidunt dui ut ornare lectus sit amet est placerat in egestas erat imperdiet sed euismod nisi porta lorem mollis aliquam ut porttitor leo a diam sollicitudin tempor id eu nisl nunc mi ipsum faucibus vitae aliquet nec ullamcorper sit amet risus nullam eget felis eget nunc lobortis mattis aliquam faucibus purus in massa tempor nec feugiat nisl pretium fusce id velit ut tortor pretium viverra suspendisse potenti nullam ac tortor vitae purus faucibus ornare suspendisse sed nisi lacus sed viverra tellus in hac habitasse platea dictumst vestibulum rhoncus est pellentesque elit ullamcorper dignissim cras tincidunt lobortis feugiat vivamus at augue eget arcu dictum varius duis at consectetur lorem donec massa sapien faucibus et molestie ac feugiat sed lectus vestibulum mattis ullamcorper velit sed ullamcorper morbi tincidunt ornare massa eget egestas purus viverra accumsan in nisl nisi scelerisque'"
            ],
            "application/vnd.google.colaboratory.intrinsic+json": {
              "type": "string"
            }
          },
          "metadata": {},
          "execution_count": 12
        }
      ],
      "source": [
        "textfile = open('corpora.txt','r')\n",
        "textfile.read()\n"
      ]
    },
    {
      "cell_type": "code",
      "execution_count": 13,
      "metadata": {
        "colab": {
          "base_uri": "https://localhost:8080/"
        },
        "id": "7Zoi4G9w28Oq",
        "outputId": "9bbbc05f-df7d-4991-8ac8-f72d86c93aa5"
      },
      "outputs": [
        {
          "output_type": "stream",
          "name": "stdout",
          "text": [
            "['magna', 'sit', 'amet', 'purus', 'gravida', 'quis', 'blandit', 'turpis', 'cursus', 'in', 'hac', 'habitasse', 'platea', 'dictumst', 'quisque', 'sagittis', 'purus', 'sit', 'amet', 'volutpat', 'consequat', 'mauris', 'nunc', 'congue', 'nisi', 'vitae', 'suscipit', 'tellus', 'mauris', 'a', 'diam', 'maecenas', 'sed', 'enim', 'ut', 'sem', 'viverra', 'aliquet', 'eget', 'sit', 'amet', 'tellus', 'cras', 'adipiscing', 'enim', 'eu', 'turpis', 'egestas', 'pretium', 'aenean', 'pharetra', 'magna', 'ac', 'placerat', 'vestibulum', 'lectus', 'mauris', 'ultrices', 'eros', 'in', 'cursus', 'turpis', 'massa', 'tincidunt', 'dui', 'ut', 'ornare', 'lectus', 'sit', 'amet', 'est', 'placerat', 'in', 'egestas', 'erat', 'imperdiet', 'sed', 'euismod', 'nisi', 'porta', 'lorem', 'mollis', 'aliquam', 'ut', 'porttitor', 'leo', 'a', 'diam', 'sollicitudin', 'tempor', 'id', 'eu', 'nisl', 'nunc', 'mi', 'ipsum', 'faucibus', 'vitae', 'aliquet', 'nec', 'ullamcorper', 'sit', 'amet', 'risus', 'nullam', 'eget', 'felis', 'eget', 'nunc', 'lobortis', 'mattis', 'aliquam', 'faucibus', 'purus', 'in', 'massa', 'tempor', 'nec', 'feugiat', 'nisl', 'pretium', 'fusce', 'id', 'velit', 'ut', 'tortor', 'pretium', 'viverra', 'suspendisse', 'potenti', 'nullam', 'ac', 'tortor', 'vitae', 'purus', 'faucibus', 'ornare', 'suspendisse', 'sed', 'nisi', 'lacus', 'sed', 'viverra', 'tellus', 'in', 'hac', 'habitasse', 'platea', 'dictumst', 'vestibulum', 'rhoncus', 'est', 'pellentesque', 'elit', 'ullamcorper', 'dignissim', 'cras', 'tincidunt', 'lobortis', 'feugiat', 'vivamus', 'at', 'augue', 'eget', 'arcu', 'dictum', 'varius', 'duis', 'at', 'consectetur', 'lorem', 'donec', 'massa', 'sapien', 'faucibus', 'et', 'molestie', 'ac', 'feugiat', 'sed', 'lectus', 'vestibulum', 'mattis', 'ullamcorper', 'velit', 'sed', 'ullamcorper', 'morbi', 'tincidunt', 'ornare', 'massa', 'eget', 'egestas', 'purus', 'viverra', 'accumsan', 'in', 'nisl', 'nisi', 'scelerisque']\n"
          ]
        }
      ],
      "source": [
        "import nltk\n",
        "file_content = open('corpora.txt').read()\n",
        "tokens = nltk.word_tokenize(file_content)\n",
        "print(tokens)"
      ]
    },
    {
      "cell_type": "markdown",
      "metadata": {
        "id": "K56FbtlY28Oq"
      },
      "source": [
        "### Word segmentation"
      ]
    },
    {
      "cell_type": "code",
      "source": [
        "!pip install wordsegment"
      ],
      "metadata": {
        "colab": {
          "base_uri": "https://localhost:8080/"
        },
        "id": "BBToFjOX4sXh",
        "outputId": "0718881e-6944-4752-8fad-82400c9f1259"
      },
      "execution_count": 14,
      "outputs": [
        {
          "output_type": "stream",
          "name": "stdout",
          "text": [
            "Looking in indexes: https://pypi.org/simple, https://us-python.pkg.dev/colab-wheels/public/simple/\n",
            "Requirement already satisfied: wordsegment in /usr/local/lib/python3.7/dist-packages (1.3.1)\n"
          ]
        }
      ]
    },
    {
      "cell_type": "code",
      "execution_count": 15,
      "metadata": {
        "colab": {
          "base_uri": "https://localhost:8080/"
        },
        "id": "HiWgHM-d28Oq",
        "outputId": "c08202bb-8334-4ab5-a929-cbc2c7e82dfd"
      },
      "outputs": [
        {
          "output_type": "execute_result",
          "data": {
            "text/plain": [
              "['magna',\n",
              " 'sit',\n",
              " 'amet',\n",
              " 'purus',\n",
              " 'gravida',\n",
              " 'quis',\n",
              " 'blandit',\n",
              " 'turpis',\n",
              " 'cursus',\n",
              " 'in',\n",
              " 'hac',\n",
              " 'habitasse',\n",
              " 'plate',\n",
              " 'a',\n",
              " 'dictumst',\n",
              " 'quisque',\n",
              " 'sagittis',\n",
              " 'purus',\n",
              " 'sit',\n",
              " 'amet',\n",
              " 'volutpat',\n",
              " 'consequat',\n",
              " 'mauris',\n",
              " 'nunc',\n",
              " 'congue',\n",
              " 'nisi',\n",
              " 'vitae',\n",
              " 'suscipit',\n",
              " 'tell',\n",
              " 'us',\n",
              " 'mauris',\n",
              " 'a',\n",
              " 'diam',\n",
              " 'maecenas',\n",
              " 'se',\n",
              " 'denim',\n",
              " 'ut',\n",
              " 'sem',\n",
              " 'viverra',\n",
              " 'aliquet',\n",
              " 'e',\n",
              " 'get',\n",
              " 'sit',\n",
              " 'amet',\n",
              " 'tell',\n",
              " 'us',\n",
              " 'cras',\n",
              " 'adipiscing',\n",
              " 'enim',\n",
              " 'eu',\n",
              " 'turpis',\n",
              " 'egestas',\n",
              " 'pretium',\n",
              " 'aenean',\n",
              " 'pharetra',\n",
              " 'magna',\n",
              " 'ac',\n",
              " 'placerat',\n",
              " 'vestibulum',\n",
              " 'lectus',\n",
              " 'mauris',\n",
              " 'ultrices',\n",
              " 'eros',\n",
              " 'in',\n",
              " 'cursus',\n",
              " 'turpis',\n",
              " 'massa',\n",
              " 'tincidunt',\n",
              " 'dui',\n",
              " 'u',\n",
              " 'tornare',\n",
              " 'lectus',\n",
              " 'sit',\n",
              " 'amet',\n",
              " 'est',\n",
              " 'placerat',\n",
              " 'in',\n",
              " 'egestas',\n",
              " 'erat',\n",
              " 'imperdiet',\n",
              " 'sed',\n",
              " 'euismod',\n",
              " 'nisi',\n",
              " 'portal',\n",
              " 'orem',\n",
              " 'mollis',\n",
              " 'aliquam',\n",
              " 'ut',\n",
              " 'porttitor',\n",
              " 'leo',\n",
              " 'a',\n",
              " 'diam',\n",
              " 'sollicitudin',\n",
              " 'tempo',\n",
              " 'rideunislnuncmiipsum',\n",
              " 'faucibus',\n",
              " 'vitae',\n",
              " 'aliquet',\n",
              " 'nec',\n",
              " 'ullamcorper',\n",
              " 'sit',\n",
              " 'amet',\n",
              " 'risus',\n",
              " 'nulla',\n",
              " 'me',\n",
              " 'get',\n",
              " 'f',\n",
              " 'elise',\n",
              " 'get',\n",
              " 'nunc',\n",
              " 'lobortis',\n",
              " 'matt',\n",
              " 'is',\n",
              " 'aliquam',\n",
              " 'faucibus',\n",
              " 'purus',\n",
              " 'in',\n",
              " 'massa',\n",
              " 'tempor',\n",
              " 'nec',\n",
              " 'feugiat',\n",
              " 'nisl',\n",
              " 'pretium',\n",
              " 'fusce',\n",
              " 'id',\n",
              " 'velit',\n",
              " 'ut',\n",
              " 'tortor',\n",
              " 'pretium',\n",
              " 'viverra',\n",
              " 'suspendisse',\n",
              " 'potenti',\n",
              " 'nullam',\n",
              " 'actor',\n",
              " 'tor',\n",
              " 'vitae',\n",
              " 'purus',\n",
              " 'faucibus',\n",
              " 'ornare',\n",
              " 'suspendisse',\n",
              " 'sed',\n",
              " 'nisi',\n",
              " 'la',\n",
              " 'cussed',\n",
              " 'viverra',\n",
              " 'tell',\n",
              " 'us',\n",
              " 'in',\n",
              " 'hac',\n",
              " 'habitasse',\n",
              " 'plate',\n",
              " 'a',\n",
              " 'dictumst',\n",
              " 'vestibulum',\n",
              " 'rhoncus',\n",
              " 'est',\n",
              " 'pellentesque',\n",
              " 'elit',\n",
              " 'ullamcorper',\n",
              " 'dignissim',\n",
              " 'cras',\n",
              " 'tincidunt',\n",
              " 'lobortis',\n",
              " 'feugiat',\n",
              " 'vivamus',\n",
              " 'at',\n",
              " 'augue',\n",
              " 'e',\n",
              " 'get',\n",
              " 'arcu',\n",
              " 'dictum',\n",
              " 'varius',\n",
              " 'du',\n",
              " 'is',\n",
              " 'at',\n",
              " 'consectetur',\n",
              " 'lorem',\n",
              " 'donec',\n",
              " 'massa',\n",
              " 'sapien',\n",
              " 'faucibus',\n",
              " 'et',\n",
              " 'molestie',\n",
              " 'ac',\n",
              " 'feugiat',\n",
              " 'sed',\n",
              " 'lectus',\n",
              " 'vestibulum',\n",
              " 'matt',\n",
              " 'is',\n",
              " 'ullamcorper',\n",
              " 'velit',\n",
              " 'sed',\n",
              " 'ullamcorper',\n",
              " 'morbi',\n",
              " 'tincidunt',\n",
              " 'ornare',\n",
              " 'mass',\n",
              " 'ae',\n",
              " 'get',\n",
              " 'egestas',\n",
              " 'purus',\n",
              " 'viverra',\n",
              " 'accumsan',\n",
              " 'in',\n",
              " 'nisl',\n",
              " 'nisi',\n",
              " 'scelerisque']"
            ]
          },
          "metadata": {},
          "execution_count": 15
        }
      ],
      "source": [
        "# getting the word segment\n",
        "import wordsegment\n",
        "from wordsegment import load, segment\n",
        "load()\n",
        "segment(file_content)"
      ]
    },
    {
      "cell_type": "markdown",
      "metadata": {
        "id": "upIYF2qm28Or"
      },
      "source": [
        "### Sentence Segementation"
      ]
    },
    {
      "cell_type": "code",
      "execution_count": 16,
      "metadata": {
        "id": "Hzf7O5Az28Or"
      },
      "outputs": [],
      "source": [
        "sentences = nltk.sent_tokenize(file_content)"
      ]
    },
    {
      "cell_type": "code",
      "execution_count": 17,
      "metadata": {
        "colab": {
          "base_uri": "https://localhost:8080/"
        },
        "id": "JPPyRUm128Or",
        "outputId": "4b291f61-f702-49e8-e13a-fa993730e27d"
      },
      "outputs": [
        {
          "output_type": "execute_result",
          "data": {
            "text/plain": [
              "['magna sit amet purus gravida quis blandit turpis cursus in hac habitasse platea dictumst quisque sagittis purus sit amet volutpat consequat mauris nunc congue nisi vitae suscipit tellus mauris a diam maecenas sed enim ut sem viverra aliquet eget sit amet tellus cras adipiscing enim eu turpis egestas pretium aenean pharetra magna ac placerat vestibulum lectus mauris ultrices eros in cursus turpis massa tincidunt dui ut ornare lectus sit amet est placerat in egestas erat imperdiet sed euismod nisi porta lorem mollis aliquam ut porttitor leo a diam sollicitudin tempor id eu nisl nunc mi ipsum faucibus vitae aliquet nec ullamcorper sit amet risus nullam eget felis eget nunc lobortis mattis aliquam faucibus purus in massa tempor nec feugiat nisl pretium fusce id velit ut tortor pretium viverra suspendisse potenti nullam ac tortor vitae purus faucibus ornare suspendisse sed nisi lacus sed viverra tellus in hac habitasse platea dictumst vestibulum rhoncus est pellentesque elit ullamcorper dignissim cras tincidunt lobortis feugiat vivamus at augue eget arcu dictum varius duis at consectetur lorem donec massa sapien faucibus et molestie ac feugiat sed lectus vestibulum mattis ullamcorper velit sed ullamcorper morbi tincidunt ornare massa eget egestas purus viverra accumsan in nisl nisi scelerisque']"
            ]
          },
          "metadata": {},
          "execution_count": 17
        }
      ],
      "source": [
        "sentences"
      ]
    },
    {
      "cell_type": "markdown",
      "metadata": {
        "id": "80WbaHuw28Or"
      },
      "source": [
        "### Convert to lowercase"
      ]
    },
    {
      "cell_type": "code",
      "execution_count": 18,
      "metadata": {
        "colab": {
          "base_uri": "https://localhost:8080/"
        },
        "id": "AUItF5jq28Os",
        "outputId": "8872b11e-6a45-4854-d839-55b77b7f67e3"
      },
      "outputs": [
        {
          "output_type": "execute_result",
          "data": {
            "text/plain": [
              "['magna',\n",
              " 'sit',\n",
              " 'amet',\n",
              " 'purus',\n",
              " 'gravida',\n",
              " 'quis',\n",
              " 'blandit',\n",
              " 'turpis',\n",
              " 'cursus',\n",
              " 'in',\n",
              " 'hac',\n",
              " 'habitasse',\n",
              " 'platea',\n",
              " 'dictumst',\n",
              " 'quisque',\n",
              " 'sagittis',\n",
              " 'purus',\n",
              " 'sit',\n",
              " 'amet',\n",
              " 'volutpat',\n",
              " 'consequat',\n",
              " 'mauris',\n",
              " 'nunc',\n",
              " 'congue',\n",
              " 'nisi',\n",
              " 'vitae',\n",
              " 'suscipit',\n",
              " 'tellus',\n",
              " 'mauris',\n",
              " 'a',\n",
              " 'diam',\n",
              " 'maecenas',\n",
              " 'sed',\n",
              " 'enim',\n",
              " 'ut',\n",
              " 'sem',\n",
              " 'viverra',\n",
              " 'aliquet',\n",
              " 'eget',\n",
              " 'sit',\n",
              " 'amet',\n",
              " 'tellus',\n",
              " 'cras',\n",
              " 'adipiscing',\n",
              " 'enim',\n",
              " 'eu',\n",
              " 'turpis',\n",
              " 'egestas',\n",
              " 'pretium',\n",
              " 'aenean',\n",
              " 'pharetra',\n",
              " 'magna',\n",
              " 'ac',\n",
              " 'placerat',\n",
              " 'vestibulum',\n",
              " 'lectus',\n",
              " 'mauris',\n",
              " 'ultrices',\n",
              " 'eros',\n",
              " 'in',\n",
              " 'cursus',\n",
              " 'turpis',\n",
              " 'massa',\n",
              " 'tincidunt',\n",
              " 'dui',\n",
              " 'ut',\n",
              " 'ornare',\n",
              " 'lectus',\n",
              " 'sit',\n",
              " 'amet',\n",
              " 'est',\n",
              " 'placerat',\n",
              " 'in',\n",
              " 'egestas',\n",
              " 'erat',\n",
              " 'imperdiet',\n",
              " 'sed',\n",
              " 'euismod',\n",
              " 'nisi',\n",
              " 'porta',\n",
              " 'lorem',\n",
              " 'mollis',\n",
              " 'aliquam',\n",
              " 'ut',\n",
              " 'porttitor',\n",
              " 'leo',\n",
              " 'a',\n",
              " 'diam',\n",
              " 'sollicitudin',\n",
              " 'tempor',\n",
              " 'id',\n",
              " 'eu',\n",
              " 'nisl',\n",
              " 'nunc',\n",
              " 'mi',\n",
              " 'ipsum',\n",
              " 'faucibus',\n",
              " 'vitae',\n",
              " 'aliquet',\n",
              " 'nec',\n",
              " 'ullamcorper',\n",
              " 'sit',\n",
              " 'amet',\n",
              " 'risus',\n",
              " 'nullam',\n",
              " 'eget',\n",
              " 'felis',\n",
              " 'eget',\n",
              " 'nunc',\n",
              " 'lobortis',\n",
              " 'mattis',\n",
              " 'aliquam',\n",
              " 'faucibus',\n",
              " 'purus',\n",
              " 'in',\n",
              " 'massa',\n",
              " 'tempor',\n",
              " 'nec',\n",
              " 'feugiat',\n",
              " 'nisl',\n",
              " 'pretium',\n",
              " 'fusce',\n",
              " 'id',\n",
              " 'velit',\n",
              " 'ut',\n",
              " 'tortor',\n",
              " 'pretium',\n",
              " 'viverra',\n",
              " 'suspendisse',\n",
              " 'potenti',\n",
              " 'nullam',\n",
              " 'ac',\n",
              " 'tortor',\n",
              " 'vitae',\n",
              " 'purus',\n",
              " 'faucibus',\n",
              " 'ornare',\n",
              " 'suspendisse',\n",
              " 'sed',\n",
              " 'nisi',\n",
              " 'lacus',\n",
              " 'sed',\n",
              " 'viverra',\n",
              " 'tellus',\n",
              " 'in',\n",
              " 'hac',\n",
              " 'habitasse',\n",
              " 'platea',\n",
              " 'dictumst',\n",
              " 'vestibulum',\n",
              " 'rhoncus',\n",
              " 'est',\n",
              " 'pellentesque',\n",
              " 'elit',\n",
              " 'ullamcorper',\n",
              " 'dignissim',\n",
              " 'cras',\n",
              " 'tincidunt',\n",
              " 'lobortis',\n",
              " 'feugiat',\n",
              " 'vivamus',\n",
              " 'at',\n",
              " 'augue',\n",
              " 'eget',\n",
              " 'arcu',\n",
              " 'dictum',\n",
              " 'varius',\n",
              " 'duis',\n",
              " 'at',\n",
              " 'consectetur',\n",
              " 'lorem',\n",
              " 'donec',\n",
              " 'massa',\n",
              " 'sapien',\n",
              " 'faucibus',\n",
              " 'et',\n",
              " 'molestie',\n",
              " 'ac',\n",
              " 'feugiat',\n",
              " 'sed',\n",
              " 'lectus',\n",
              " 'vestibulum',\n",
              " 'mattis',\n",
              " 'ullamcorper',\n",
              " 'velit',\n",
              " 'sed',\n",
              " 'ullamcorper',\n",
              " 'morbi',\n",
              " 'tincidunt',\n",
              " 'ornare',\n",
              " 'massa',\n",
              " 'eget',\n",
              " 'egestas',\n",
              " 'purus',\n",
              " 'viverra',\n",
              " 'accumsan',\n",
              " 'in',\n",
              " 'nisl',\n",
              " 'nisi',\n",
              " 'scelerisque']"
            ]
          },
          "metadata": {},
          "execution_count": 18
        }
      ],
      "source": [
        "lower_tokens = [token.lower() for token in tokens]\n",
        "lower_tokens"
      ]
    },
    {
      "cell_type": "markdown",
      "metadata": {
        "id": "zFyUI-1j28Os"
      },
      "source": [
        "### •\tStop words removal"
      ]
    },
    {
      "cell_type": "code",
      "execution_count": 19,
      "metadata": {
        "colab": {
          "base_uri": "https://localhost:8080/"
        },
        "id": "lzmzDNx928Os",
        "outputId": "0ce47599-4cd9-4daf-bf9d-7310ebecaabe"
      },
      "outputs": [
        {
          "output_type": "stream",
          "name": "stdout",
          "text": [
            "{'did', 'about', 'after', 'ma', 'been', 'she', 'again', \"it's\", 'should', \"haven't\", 'when', 'just', 'few', \"hasn't\", \"isn't\", 'where', 'yours', \"don't\", 'same', \"should've\", 'y', 'further', \"shan't\", 'wouldn', 'itself', 'other', 'very', 'doing', 'herself', 'any', \"that'll\", 'during', 'didn', 'for', 'once', 'over', 'nor', 'am', 'me', 'needn', \"wasn't\", \"you'd\", 'at', 'by', \"hadn't\", 'had', 'haven', 'before', 'so', 're', 'against', \"you're\", 'more', 'how', 'is', 'above', 'under', \"needn't\", 'now', 'its', 'you', \"aren't\", 'ourselves', 'won', 'this', 'm', 'most', 've', 'some', 'from', 'doesn', 'being', 'yourself', 'up', 'shouldn', 'each', 'those', 't', 'themselves', 'o', \"didn't\", 'a', 'him', 'until', 'if', 'they', 'isn', 'were', \"you'll\", 'was', 'himself', 'what', 'between', 'll', 'are', 'there', 'but', 'her', 'd', 'their', 'while', 'hasn', 'an', 'will', 'weren', 'because', 'couldn', 'hadn', 'mustn', 'such', 'of', 'only', 'ain', 'having', 'not', 'myself', 'hers', 'has', 'on', 'he', \"she's\", 'in', 'do', 'shan', 'don', 'my', \"won't\", 'too', 'his', 'i', \"wouldn't\", 'who', 'or', 'here', 'aren', \"mustn't\", 'yourselves', 'your', 'them', 'the', 'does', 'be', 'off', 'whom', 'own', \"couldn't\", 'with', 'we', 'all', 'mightn', 'both', 's', 'which', 'can', 'then', \"shouldn't\", \"mightn't\", \"weren't\", 'that', \"doesn't\", 'no', 'these', 'wasn', 'our', 'through', 'it', \"you've\", 'have', 'out', 'into', 'below', 'as', 'than', 'down', 'ours', 'and', 'why', 'to', 'theirs'}\n"
          ]
        }
      ],
      "source": [
        "from nltk.corpus import stopwords\n",
        "stop_words = set(stopwords.words('english'))\n",
        "print(stop_words)"
      ]
    },
    {
      "cell_type": "code",
      "execution_count": 20,
      "metadata": {
        "colab": {
          "base_uri": "https://localhost:8080/"
        },
        "id": "iJBaMczt28Ot",
        "outputId": "f4484577-3482-4076-9a90-24b4fb3f3d10"
      },
      "outputs": [
        {
          "output_type": "stream",
          "name": "stdout",
          "text": [
            "['magna', 'sit', 'amet', 'purus', 'gravida', 'quis', 'blandit', 'turpis', 'cursus', 'hac', 'habitasse', 'platea', 'dictumst', 'quisque', 'sagittis', 'purus', 'sit', 'amet', 'volutpat', 'consequat', 'mauris', 'nunc', 'congue', 'nisi', 'vitae', 'suscipit', 'tellus', 'mauris', 'diam', 'maecenas', 'sed', 'enim', 'ut', 'sem', 'viverra', 'aliquet', 'eget', 'sit', 'amet', 'tellus', 'cras', 'adipiscing', 'enim', 'eu', 'turpis', 'egestas', 'pretium', 'aenean', 'pharetra', 'magna', 'ac', 'placerat', 'vestibulum', 'lectus', 'mauris', 'ultrices', 'eros', 'cursus', 'turpis', 'massa', 'tincidunt', 'dui', 'ut', 'ornare', 'lectus', 'sit', 'amet', 'est', 'placerat', 'egestas', 'erat', 'imperdiet', 'sed', 'euismod', 'nisi', 'porta', 'lorem', 'mollis', 'aliquam', 'ut', 'porttitor', 'leo', 'diam', 'sollicitudin', 'tempor', 'id', 'eu', 'nisl', 'nunc', 'mi', 'ipsum', 'faucibus', 'vitae', 'aliquet', 'nec', 'ullamcorper', 'sit', 'amet', 'risus', 'nullam', 'eget', 'felis', 'eget', 'nunc', 'lobortis', 'mattis', 'aliquam', 'faucibus', 'purus', 'massa', 'tempor', 'nec', 'feugiat', 'nisl', 'pretium', 'fusce', 'id', 'velit', 'ut', 'tortor', 'pretium', 'viverra', 'suspendisse', 'potenti', 'nullam', 'ac', 'tortor', 'vitae', 'purus', 'faucibus', 'ornare', 'suspendisse', 'sed', 'nisi', 'lacus', 'sed', 'viverra', 'tellus', 'hac', 'habitasse', 'platea', 'dictumst', 'vestibulum', 'rhoncus', 'est', 'pellentesque', 'elit', 'ullamcorper', 'dignissim', 'cras', 'tincidunt', 'lobortis', 'feugiat', 'vivamus', 'augue', 'eget', 'arcu', 'dictum', 'varius', 'duis', 'consectetur', 'lorem', 'donec', 'massa', 'sapien', 'faucibus', 'et', 'molestie', 'ac', 'feugiat', 'sed', 'lectus', 'vestibulum', 'mattis', 'ullamcorper', 'velit', 'sed', 'ullamcorper', 'morbi', 'tincidunt', 'ornare', 'massa', 'eget', 'egestas', 'purus', 'viverra', 'accumsan', 'nisl', 'nisi', 'scelerisque']\n"
          ]
        }
      ],
      "source": [
        "filtered_sentence = [w for w in tokens if not w.lower() in stop_words]\n",
        "  \n",
        "filtered_sentence = []\n",
        "for w in lower_tokens:\n",
        "    if w not in stop_words:\n",
        "        filtered_sentence.append(w)\n",
        "\n",
        "print(filtered_sentence)"
      ]
    },
    {
      "cell_type": "markdown",
      "metadata": {
        "id": "ZMgtO1kW28Ot"
      },
      "source": [
        "### Stemming"
      ]
    },
    {
      "cell_type": "code",
      "execution_count": 21,
      "metadata": {
        "colab": {
          "base_uri": "https://localhost:8080/"
        },
        "id": "AeJ3F9w028Ot",
        "outputId": "cb257a9a-b705-47ae-ad79-93dbfe0ba6f2"
      },
      "outputs": [
        {
          "output_type": "stream",
          "name": "stdout",
          "text": [
            "magna  :  magna\n",
            "sit  :  sit\n",
            "amet  :  amet\n",
            "purus  :  puru\n",
            "gravida  :  gravida\n",
            "quis  :  qui\n",
            "blandit  :  blandit\n",
            "turpis  :  turpi\n",
            "cursus  :  cursu\n",
            "hac  :  hac\n",
            "habitasse  :  habitass\n",
            "platea  :  platea\n",
            "dictumst  :  dictumst\n",
            "quisque  :  quisqu\n",
            "sagittis  :  sagitti\n",
            "purus  :  puru\n",
            "sit  :  sit\n",
            "amet  :  amet\n",
            "volutpat  :  volutpat\n",
            "consequat  :  consequat\n",
            "mauris  :  mauri\n",
            "nunc  :  nunc\n",
            "congue  :  congu\n",
            "nisi  :  nisi\n",
            "vitae  :  vita\n",
            "suscipit  :  suscipit\n",
            "tellus  :  tellu\n",
            "mauris  :  mauri\n",
            "diam  :  diam\n",
            "maecenas  :  maecena\n",
            "sed  :  sed\n",
            "enim  :  enim\n",
            "ut  :  ut\n",
            "sem  :  sem\n",
            "viverra  :  viverra\n",
            "aliquet  :  aliquet\n",
            "eget  :  eget\n",
            "sit  :  sit\n",
            "amet  :  amet\n",
            "tellus  :  tellu\n",
            "cras  :  cra\n",
            "adipiscing  :  adipisc\n",
            "enim  :  enim\n",
            "eu  :  eu\n",
            "turpis  :  turpi\n",
            "egestas  :  egesta\n",
            "pretium  :  pretium\n",
            "aenean  :  aenean\n",
            "pharetra  :  pharetra\n",
            "magna  :  magna\n",
            "ac  :  ac\n",
            "placerat  :  placerat\n",
            "vestibulum  :  vestibulum\n",
            "lectus  :  lectu\n",
            "mauris  :  mauri\n",
            "ultrices  :  ultric\n",
            "eros  :  ero\n",
            "cursus  :  cursu\n",
            "turpis  :  turpi\n",
            "massa  :  massa\n",
            "tincidunt  :  tincidunt\n",
            "dui  :  dui\n",
            "ut  :  ut\n",
            "ornare  :  ornar\n",
            "lectus  :  lectu\n",
            "sit  :  sit\n",
            "amet  :  amet\n",
            "est  :  est\n",
            "placerat  :  placerat\n",
            "egestas  :  egesta\n",
            "erat  :  erat\n",
            "imperdiet  :  imperdiet\n",
            "sed  :  sed\n",
            "euismod  :  euismod\n",
            "nisi  :  nisi\n",
            "porta  :  porta\n",
            "lorem  :  lorem\n",
            "mollis  :  molli\n",
            "aliquam  :  aliquam\n",
            "ut  :  ut\n",
            "porttitor  :  porttitor\n",
            "leo  :  leo\n",
            "diam  :  diam\n",
            "sollicitudin  :  sollicitudin\n",
            "tempor  :  tempor\n",
            "id  :  id\n",
            "eu  :  eu\n",
            "nisl  :  nisl\n",
            "nunc  :  nunc\n",
            "mi  :  mi\n",
            "ipsum  :  ipsum\n",
            "faucibus  :  faucibu\n",
            "vitae  :  vita\n",
            "aliquet  :  aliquet\n",
            "nec  :  nec\n",
            "ullamcorper  :  ullamcorp\n",
            "sit  :  sit\n",
            "amet  :  amet\n",
            "risus  :  risu\n",
            "nullam  :  nullam\n",
            "eget  :  eget\n",
            "felis  :  feli\n",
            "eget  :  eget\n",
            "nunc  :  nunc\n",
            "lobortis  :  loborti\n",
            "mattis  :  matti\n",
            "aliquam  :  aliquam\n",
            "faucibus  :  faucibu\n",
            "purus  :  puru\n",
            "massa  :  massa\n",
            "tempor  :  tempor\n",
            "nec  :  nec\n",
            "feugiat  :  feugiat\n",
            "nisl  :  nisl\n",
            "pretium  :  pretium\n",
            "fusce  :  fusc\n",
            "id  :  id\n",
            "velit  :  velit\n",
            "ut  :  ut\n",
            "tortor  :  tortor\n",
            "pretium  :  pretium\n",
            "viverra  :  viverra\n",
            "suspendisse  :  suspendiss\n",
            "potenti  :  potenti\n",
            "nullam  :  nullam\n",
            "ac  :  ac\n",
            "tortor  :  tortor\n",
            "vitae  :  vita\n",
            "purus  :  puru\n",
            "faucibus  :  faucibu\n",
            "ornare  :  ornar\n",
            "suspendisse  :  suspendiss\n",
            "sed  :  sed\n",
            "nisi  :  nisi\n",
            "lacus  :  lacu\n",
            "sed  :  sed\n",
            "viverra  :  viverra\n",
            "tellus  :  tellu\n",
            "hac  :  hac\n",
            "habitasse  :  habitass\n",
            "platea  :  platea\n",
            "dictumst  :  dictumst\n",
            "vestibulum  :  vestibulum\n",
            "rhoncus  :  rhoncu\n",
            "est  :  est\n",
            "pellentesque  :  pellentesqu\n",
            "elit  :  elit\n",
            "ullamcorper  :  ullamcorp\n",
            "dignissim  :  dignissim\n",
            "cras  :  cra\n",
            "tincidunt  :  tincidunt\n",
            "lobortis  :  loborti\n",
            "feugiat  :  feugiat\n",
            "vivamus  :  vivamu\n",
            "augue  :  augu\n",
            "eget  :  eget\n",
            "arcu  :  arcu\n",
            "dictum  :  dictum\n",
            "varius  :  variu\n",
            "duis  :  dui\n",
            "consectetur  :  consectetur\n",
            "lorem  :  lorem\n",
            "donec  :  donec\n",
            "massa  :  massa\n",
            "sapien  :  sapien\n",
            "faucibus  :  faucibu\n",
            "et  :  et\n",
            "molestie  :  molesti\n",
            "ac  :  ac\n",
            "feugiat  :  feugiat\n",
            "sed  :  sed\n",
            "lectus  :  lectu\n",
            "vestibulum  :  vestibulum\n",
            "mattis  :  matti\n",
            "ullamcorper  :  ullamcorp\n",
            "velit  :  velit\n",
            "sed  :  sed\n",
            "ullamcorper  :  ullamcorp\n",
            "morbi  :  morbi\n",
            "tincidunt  :  tincidunt\n",
            "ornare  :  ornar\n",
            "massa  :  massa\n",
            "eget  :  eget\n",
            "egestas  :  egesta\n",
            "purus  :  puru\n",
            "viverra  :  viverra\n",
            "accumsan  :  accumsan\n",
            "nisl  :  nisl\n",
            "nisi  :  nisi\n",
            "scelerisque  :  scelerisqu\n"
          ]
        }
      ],
      "source": [
        "from nltk.stem import PorterStemmer\n",
        "ps = PorterStemmer()\n",
        "\n",
        "# getting the stem words from the list of filtered words\n",
        "for w in filtered_sentence:\n",
        "    print(w, \" : \", ps.stem(w))"
      ]
    },
    {
      "cell_type": "markdown",
      "metadata": {
        "id": "mlyQJ1rR28Ot"
      },
      "source": [
        "### Lemmatization"
      ]
    },
    {
      "cell_type": "code",
      "execution_count": 22,
      "metadata": {
        "colab": {
          "base_uri": "https://localhost:8080/"
        },
        "id": "ChqSdpfU28Ot",
        "outputId": "e30f1f95-07ff-4421-f4c2-b98013a92593"
      },
      "outputs": [
        {
          "output_type": "stream",
          "name": "stdout",
          "text": [
            "magna  :  magna\n",
            "sit  :  sit\n",
            "amet  :  amet\n",
            "purus  :  purus\n",
            "gravida  :  gravida\n",
            "quis  :  quis\n",
            "blandit  :  blandit\n",
            "turpis  :  turpis\n",
            "cursus  :  cursus\n",
            "hac  :  hac\n",
            "habitasse  :  habitasse\n",
            "platea  :  platea\n",
            "dictumst  :  dictumst\n",
            "quisque  :  quisque\n",
            "sagittis  :  sagittis\n",
            "purus  :  purus\n",
            "sit  :  sit\n",
            "amet  :  amet\n",
            "volutpat  :  volutpat\n",
            "consequat  :  consequat\n",
            "mauris  :  mauris\n",
            "nunc  :  nunc\n",
            "congue  :  congue\n",
            "nisi  :  nisi\n",
            "vitae  :  vitae\n",
            "suscipit  :  suscipit\n",
            "tellus  :  tellus\n",
            "mauris  :  mauris\n",
            "diam  :  diam\n",
            "maecenas  :  maecenas\n",
            "sed  :  sed\n",
            "enim  :  enim\n",
            "ut  :  ut\n",
            "sem  :  sem\n",
            "viverra  :  viverra\n",
            "aliquet  :  aliquet\n",
            "eget  :  eget\n",
            "sit  :  sit\n",
            "amet  :  amet\n",
            "tellus  :  tellus\n",
            "cras  :  cras\n",
            "adipiscing  :  adipiscing\n",
            "enim  :  enim\n",
            "eu  :  eu\n",
            "turpis  :  turpis\n",
            "egestas  :  egestas\n",
            "pretium  :  pretium\n",
            "aenean  :  aenean\n",
            "pharetra  :  pharetra\n",
            "magna  :  magna\n",
            "ac  :  ac\n",
            "placerat  :  placerat\n",
            "vestibulum  :  vestibulum\n",
            "lectus  :  lectus\n",
            "mauris  :  mauris\n",
            "ultrices  :  ultrices\n",
            "eros  :  eros\n",
            "cursus  :  cursus\n",
            "turpis  :  turpis\n",
            "massa  :  massa\n",
            "tincidunt  :  tincidunt\n",
            "dui  :  duo\n",
            "ut  :  ut\n",
            "ornare  :  ornare\n",
            "lectus  :  lectus\n",
            "sit  :  sit\n",
            "amet  :  amet\n",
            "est  :  est\n",
            "placerat  :  placerat\n",
            "egestas  :  egestas\n",
            "erat  :  erat\n",
            "imperdiet  :  imperdiet\n",
            "sed  :  sed\n",
            "euismod  :  euismod\n",
            "nisi  :  nisi\n",
            "porta  :  porta\n",
            "lorem  :  lorem\n",
            "mollis  :  mollis\n",
            "aliquam  :  aliquam\n",
            "ut  :  ut\n",
            "porttitor  :  porttitor\n",
            "leo  :  leo\n",
            "diam  :  diam\n",
            "sollicitudin  :  sollicitudin\n",
            "tempor  :  tempor\n",
            "id  :  id\n",
            "eu  :  eu\n",
            "nisl  :  nisl\n",
            "nunc  :  nunc\n",
            "mi  :  mi\n",
            "ipsum  :  ipsum\n",
            "faucibus  :  faucibus\n",
            "vitae  :  vitae\n",
            "aliquet  :  aliquet\n",
            "nec  :  nec\n",
            "ullamcorper  :  ullamcorper\n",
            "sit  :  sit\n",
            "amet  :  amet\n",
            "risus  :  risus\n",
            "nullam  :  nullam\n",
            "eget  :  eget\n",
            "felis  :  felis\n",
            "eget  :  eget\n",
            "nunc  :  nunc\n",
            "lobortis  :  lobortis\n",
            "mattis  :  mattis\n",
            "aliquam  :  aliquam\n",
            "faucibus  :  faucibus\n",
            "purus  :  purus\n",
            "massa  :  massa\n",
            "tempor  :  tempor\n",
            "nec  :  nec\n",
            "feugiat  :  feugiat\n",
            "nisl  :  nisl\n",
            "pretium  :  pretium\n",
            "fusce  :  fusce\n",
            "id  :  id\n",
            "velit  :  velit\n",
            "ut  :  ut\n",
            "tortor  :  tortor\n",
            "pretium  :  pretium\n",
            "viverra  :  viverra\n",
            "suspendisse  :  suspendisse\n",
            "potenti  :  potenti\n",
            "nullam  :  nullam\n",
            "ac  :  ac\n",
            "tortor  :  tortor\n",
            "vitae  :  vitae\n",
            "purus  :  purus\n",
            "faucibus  :  faucibus\n",
            "ornare  :  ornare\n",
            "suspendisse  :  suspendisse\n",
            "sed  :  sed\n",
            "nisi  :  nisi\n",
            "lacus  :  lacus\n",
            "sed  :  sed\n",
            "viverra  :  viverra\n",
            "tellus  :  tellus\n",
            "hac  :  hac\n",
            "habitasse  :  habitasse\n",
            "platea  :  platea\n",
            "dictumst  :  dictumst\n",
            "vestibulum  :  vestibulum\n",
            "rhoncus  :  rhoncus\n",
            "est  :  est\n",
            "pellentesque  :  pellentesque\n",
            "elit  :  elit\n",
            "ullamcorper  :  ullamcorper\n",
            "dignissim  :  dignissim\n",
            "cras  :  cras\n",
            "tincidunt  :  tincidunt\n",
            "lobortis  :  lobortis\n",
            "feugiat  :  feugiat\n",
            "vivamus  :  vivamus\n",
            "augue  :  augue\n",
            "eget  :  eget\n",
            "arcu  :  arcu\n",
            "dictum  :  dictum\n",
            "varius  :  varius\n",
            "duis  :  duis\n",
            "consectetur  :  consectetur\n",
            "lorem  :  lorem\n",
            "donec  :  donec\n",
            "massa  :  massa\n",
            "sapien  :  sapien\n",
            "faucibus  :  faucibus\n",
            "et  :  et\n",
            "molestie  :  molestie\n",
            "ac  :  ac\n",
            "feugiat  :  feugiat\n",
            "sed  :  sed\n",
            "lectus  :  lectus\n",
            "vestibulum  :  vestibulum\n",
            "mattis  :  mattis\n",
            "ullamcorper  :  ullamcorper\n",
            "velit  :  velit\n",
            "sed  :  sed\n",
            "ullamcorper  :  ullamcorper\n",
            "morbi  :  morbi\n",
            "tincidunt  :  tincidunt\n",
            "ornare  :  ornare\n",
            "massa  :  massa\n",
            "eget  :  eget\n",
            "egestas  :  egestas\n",
            "purus  :  purus\n",
            "viverra  :  viverra\n",
            "accumsan  :  accumsan\n",
            "nisl  :  nisl\n",
            "nisi  :  nisi\n",
            "scelerisque  :  scelerisque\n"
          ]
        }
      ],
      "source": [
        "from nltk.stem import WordNetLemmatizer\n",
        "lemmatizer = WordNetLemmatizer()\n",
        "\n",
        "for w in filtered_sentence:\n",
        "    print(w, \" : \", lemmatizer.lemmatize(w))"
      ]
    },
    {
      "cell_type": "markdown",
      "metadata": {
        "id": "ywhXE8xg28Ou"
      },
      "source": [
        "### POS tagging"
      ]
    },
    {
      "cell_type": "code",
      "execution_count": 23,
      "metadata": {
        "colab": {
          "base_uri": "https://localhost:8080/"
        },
        "id": "VXAcv_d728Ou",
        "outputId": "a85f3b9a-37ad-4052-c1f2-36b57c42ac31"
      },
      "outputs": [
        {
          "output_type": "stream",
          "name": "stdout",
          "text": [
            "[('magna', 'NN')]\n",
            "[('sit', 'NN')]\n",
            "[('amet', 'NN')]\n",
            "[('purus', 'NN')]\n",
            "[('gravida', 'NN')]\n",
            "[('quis', 'NN')]\n",
            "[('blandit', 'NN')]\n",
            "[('turpis', 'NN')]\n",
            "[('cursus', 'NN')]\n",
            "[('hac', 'NN')]\n",
            "[('habitasse', 'NN')]\n",
            "[('platea', 'NN')]\n",
            "[('dictumst', 'NN')]\n",
            "[('quisque', 'NN')]\n",
            "[('sagittis', 'NN')]\n",
            "[('purus', 'NN')]\n",
            "[('sit', 'NN')]\n",
            "[('amet', 'NN')]\n",
            "[('volutpat', 'NN')]\n",
            "[('consequat', 'NN')]\n",
            "[('mauris', 'NN')]\n",
            "[('nunc', 'NN')]\n",
            "[('congue', 'NN')]\n",
            "[('nisi', 'NN')]\n",
            "[('vitae', 'NN')]\n",
            "[('suscipit', 'NN')]\n",
            "[('tellus', 'NN')]\n",
            "[('mauris', 'NN')]\n",
            "[('diam', 'NN')]\n",
            "[('maecenas', 'NNS')]\n",
            "[('sed', 'VBN')]\n",
            "[('enim', 'NN')]\n",
            "[('ut', 'NN')]\n",
            "[('sem', 'NN')]\n",
            "[('viverra', 'NN')]\n",
            "[('aliquet', 'NN')]\n",
            "[('eget', 'NN')]\n",
            "[('sit', 'NN')]\n",
            "[('amet', 'NN')]\n",
            "[('tellus', 'NN')]\n",
            "[('cras', 'NNS')]\n",
            "[('adipiscing', 'VBG')]\n",
            "[('enim', 'NN')]\n",
            "[('eu', 'NN')]\n",
            "[('turpis', 'NN')]\n",
            "[('egestas', 'NNS')]\n",
            "[('pretium', 'NN')]\n",
            "[('aenean', 'NN')]\n",
            "[('pharetra', 'NN')]\n",
            "[('magna', 'NN')]\n",
            "[('ac', 'NN')]\n",
            "[('placerat', 'NN')]\n",
            "[('vestibulum', 'NN')]\n",
            "[('lectus', 'NN')]\n",
            "[('mauris', 'NN')]\n",
            "[('ultrices', 'NNS')]\n",
            "[('eros', 'NNS')]\n",
            "[('cursus', 'NN')]\n",
            "[('turpis', 'NN')]\n",
            "[('massa', 'NN')]\n",
            "[('tincidunt', 'NN')]\n",
            "[('dui', 'NN')]\n",
            "[('ut', 'NN')]\n",
            "[('ornare', 'NN')]\n",
            "[('lectus', 'NN')]\n",
            "[('sit', 'NN')]\n",
            "[('amet', 'NN')]\n",
            "[('est', 'NN')]\n",
            "[('placerat', 'NN')]\n",
            "[('egestas', 'NNS')]\n",
            "[('erat', 'NN')]\n",
            "[('imperdiet', 'JJ')]\n",
            "[('sed', 'VBN')]\n",
            "[('euismod', 'NN')]\n",
            "[('nisi', 'NN')]\n",
            "[('porta', 'NN')]\n",
            "[('lorem', 'NN')]\n",
            "[('mollis', 'NNS')]\n",
            "[('aliquam', 'NN')]\n",
            "[('ut', 'NN')]\n",
            "[('porttitor', 'NN')]\n",
            "[('leo', 'NN')]\n",
            "[('diam', 'NN')]\n",
            "[('sollicitudin', 'NN')]\n",
            "[('tempor', 'NN')]\n",
            "[('id', 'NN')]\n",
            "[('eu', 'NN')]\n",
            "[('nisl', 'NN')]\n",
            "[('nunc', 'NN')]\n",
            "[('mi', 'NN')]\n",
            "[('ipsum', 'NN')]\n",
            "[('faucibus', 'NN')]\n",
            "[('vitae', 'NN')]\n",
            "[('aliquet', 'NN')]\n",
            "[('nec', 'NN')]\n",
            "[('ullamcorper', 'NN')]\n",
            "[('sit', 'NN')]\n",
            "[('amet', 'NN')]\n",
            "[('risus', 'NN')]\n",
            "[('nullam', 'NN')]\n",
            "[('eget', 'NN')]\n",
            "[('felis', 'NN')]\n",
            "[('eget', 'NN')]\n",
            "[('nunc', 'NN')]\n",
            "[('lobortis', 'NN')]\n",
            "[('mattis', 'NN')]\n",
            "[('aliquam', 'NN')]\n",
            "[('faucibus', 'NN')]\n",
            "[('purus', 'NN')]\n",
            "[('massa', 'NN')]\n",
            "[('tempor', 'NN')]\n",
            "[('nec', 'NN')]\n",
            "[('feugiat', 'NN')]\n",
            "[('nisl', 'NN')]\n",
            "[('pretium', 'NN')]\n",
            "[('fusce', 'NN')]\n",
            "[('id', 'NN')]\n",
            "[('velit', 'NN')]\n",
            "[('ut', 'NN')]\n",
            "[('tortor', 'NN')]\n",
            "[('pretium', 'NN')]\n",
            "[('viverra', 'NN')]\n",
            "[('suspendisse', 'NN')]\n",
            "[('potenti', 'NN')]\n",
            "[('nullam', 'NN')]\n",
            "[('ac', 'NN')]\n",
            "[('tortor', 'NN')]\n",
            "[('vitae', 'NN')]\n",
            "[('purus', 'NN')]\n",
            "[('faucibus', 'NN')]\n",
            "[('ornare', 'NN')]\n",
            "[('suspendisse', 'NN')]\n",
            "[('sed', 'VBN')]\n",
            "[('nisi', 'NN')]\n",
            "[('lacus', 'NN')]\n",
            "[('sed', 'VBN')]\n",
            "[('viverra', 'NN')]\n",
            "[('tellus', 'NN')]\n",
            "[('hac', 'NN')]\n",
            "[('habitasse', 'NN')]\n",
            "[('platea', 'NN')]\n",
            "[('dictumst', 'NN')]\n",
            "[('vestibulum', 'NN')]\n",
            "[('rhoncus', 'NN')]\n",
            "[('est', 'NN')]\n",
            "[('pellentesque', 'NN')]\n",
            "[('elit', 'NN')]\n",
            "[('ullamcorper', 'NN')]\n",
            "[('dignissim', 'NN')]\n",
            "[('cras', 'NNS')]\n",
            "[('tincidunt', 'NN')]\n",
            "[('lobortis', 'NN')]\n",
            "[('feugiat', 'NN')]\n",
            "[('vivamus', 'NN')]\n",
            "[('augue', 'NN')]\n",
            "[('eget', 'NN')]\n",
            "[('arcu', 'NN')]\n",
            "[('dictum', 'NN')]\n",
            "[('varius', 'NN')]\n",
            "[('duis', 'NN')]\n",
            "[('consectetur', 'NN')]\n",
            "[('lorem', 'NN')]\n",
            "[('donec', 'NN')]\n",
            "[('massa', 'NN')]\n",
            "[('sapien', 'NN')]\n",
            "[('faucibus', 'NN')]\n",
            "[('et', 'NN')]\n",
            "[('molestie', 'NN')]\n",
            "[('ac', 'NN')]\n",
            "[('feugiat', 'NN')]\n",
            "[('sed', 'VBN')]\n",
            "[('lectus', 'NN')]\n",
            "[('vestibulum', 'NN')]\n",
            "[('mattis', 'NN')]\n",
            "[('ullamcorper', 'NN')]\n",
            "[('velit', 'NN')]\n",
            "[('sed', 'VBN')]\n",
            "[('ullamcorper', 'NN')]\n",
            "[('morbi', 'NN')]\n",
            "[('tincidunt', 'NN')]\n",
            "[('ornare', 'NN')]\n",
            "[('massa', 'NN')]\n",
            "[('eget', 'NN')]\n",
            "[('egestas', 'NNS')]\n",
            "[('purus', 'NN')]\n",
            "[('viverra', 'NN')]\n",
            "[('accumsan', 'NN')]\n",
            "[('nisl', 'NN')]\n",
            "[('nisi', 'NN')]\n",
            "[('scelerisque', 'NN')]\n"
          ]
        }
      ],
      "source": [
        "for sent in filtered_sentence:\n",
        "    print(nltk.pos_tag(nltk.word_tokenize(sent)))"
      ]
    },
    {
      "cell_type": "code",
      "execution_count": 23,
      "metadata": {
        "id": "vt-bKW9k28Ou"
      },
      "outputs": [],
      "source": [
        ""
      ]
    }
  ],
  "metadata": {
    "kernelspec": {
      "display_name": "Python 3.9.13 64-bit (windows store)",
      "language": "python",
      "name": "python3"
    },
    "language_info": {
      "codemirror_mode": {
        "name": "ipython",
        "version": 3
      },
      "file_extension": ".py",
      "mimetype": "text/x-python",
      "name": "python",
      "nbconvert_exporter": "python",
      "pygments_lexer": "ipython3",
      "version": "3.9.13"
    },
    "vscode": {
      "interpreter": {
        "hash": "33b93c8baf5683cdb65ae48425fefbf661413f484dec69fe1e86bafe90d752c3"
      }
    },
    "colab": {
      "name": "19BCE1695_DA_2.ipynb",
      "provenance": [],
      "collapsed_sections": []
    }
  },
  "nbformat": 4,
  "nbformat_minor": 0
}